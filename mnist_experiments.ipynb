{
  "nbformat": 4,
  "nbformat_minor": 0,
  "metadata": {
    "colab": {
      "name": "mnist-experiments.ipynb",
      "version": "0.3.2",
      "provenance": [],
      "collapsed_sections": [],
      "toc_visible": true,
      "include_colab_link": true
    },
    "kernelspec": {
      "name": "python3",
      "display_name": "Python 3"
    },
    "accelerator": "GPU"
  },
  "cells": [
    {
      "cell_type": "markdown",
      "metadata": {
        "id": "view-in-github",
        "colab_type": "text"
      },
      "source": [
        "<a href=\"https://colab.research.google.com/github/sandipan1/ML-experiments/blob/master/mnist_experiments.ipynb\" target=\"_parent\"><img src=\"https://colab.research.google.com/assets/colab-badge.svg\" alt=\"Open In Colab\"/></a>"
      ]
    },
    {
      "cell_type": "code",
      "metadata": {
        "id": "0IZ6hvhOAa4O",
        "colab_type": "code",
        "outputId": "5d1ce8fc-d0b3-42ce-c29e-b40de7dfb801",
        "colab": {
          "base_uri": "https://localhost:8080/",
          "height": 1000
        }
      },
      "source": [
        "  !pip install wandb\n"
      ],
      "execution_count": 0,
      "outputs": [
        {
          "output_type": "stream",
          "text": [
            "Collecting wandb\n",
            "\u001b[?25l  Downloading https://files.pythonhosted.org/packages/3e/f0/c0d690d66be181ac74624fda68a53e3daf3008cf1a10702b957bf0a08420/wandb-0.8.9-py2.py3-none-any.whl (1.3MB)\n",
            "\u001b[K     |████████████████████████████████| 1.3MB 35.4MB/s \n",
            "\u001b[?25hCollecting watchdog>=0.8.3 (from wandb)\n",
            "\u001b[?25l  Downloading https://files.pythonhosted.org/packages/bb/e3/5a55d48a29300160779f0a0d2776d17c1b762a2039b36de528b093b87d5b/watchdog-0.9.0.tar.gz (85kB)\n",
            "\u001b[K     |████████████████████████████████| 92kB 25.7MB/s \n",
            "\u001b[?25hRequirement already satisfied: nvidia-ml-py3>=7.352.0 in /usr/local/lib/python3.6/dist-packages (from wandb) (7.352.0)\n",
            "Requirement already satisfied: requests>=2.0.0 in /usr/local/lib/python3.6/dist-packages (from wandb) (2.21.0)\n",
            "Collecting sentry-sdk>=0.4.0 (from wandb)\n",
            "\u001b[?25l  Downloading https://files.pythonhosted.org/packages/2c/02/313e94836ff56e4bec0e7343a1fcff6f3aa2d4a61b703d641e61bb0f306a/sentry_sdk-0.11.2-py2.py3-none-any.whl (81kB)\n",
            "\u001b[K     |████████████████████████████████| 81kB 24.3MB/s \n",
            "\u001b[?25hCollecting gql>=0.1.0 (from wandb)\n",
            "  Downloading https://files.pythonhosted.org/packages/aa/9c/2933b7791210e00f5c26a6243198cc03af9132c29cf85e4c22cb007f171e/gql-0.1.0.tar.gz\n",
            "Collecting docker-pycreds>=0.4.0 (from wandb)\n",
            "  Downloading https://files.pythonhosted.org/packages/f5/e8/f6bd1eee09314e7e6dee49cbe2c5e22314ccdb38db16c9fc72d2fa80d054/docker_pycreds-0.4.0-py2.py3-none-any.whl\n",
            "Requirement already satisfied: six>=1.10.0 in /usr/local/lib/python3.6/dist-packages (from wandb) (1.12.0)\n",
            "Collecting shortuuid>=0.5.0 (from wandb)\n",
            "  Downloading https://files.pythonhosted.org/packages/80/d7/2bfc9332e68d3e15ea97b9b1588b3899ad565120253d3fd71c8f7f13b4fe/shortuuid-0.5.0.tar.gz\n",
            "Requirement already satisfied: Click>=7.0 in /usr/local/lib/python3.6/dist-packages (from wandb) (7.0)\n",
            "Collecting subprocess32>=3.5.3 (from wandb)\n",
            "\u001b[?25l  Downloading https://files.pythonhosted.org/packages/32/c8/564be4d12629b912ea431f1a50eb8b3b9d00f1a0b1ceff17f266be190007/subprocess32-3.5.4.tar.gz (97kB)\n",
            "\u001b[K     |████████████████████████████████| 102kB 32.2MB/s \n",
            "\u001b[?25hRequirement already satisfied: psutil>=5.0.0 in /usr/local/lib/python3.6/dist-packages (from wandb) (5.4.8)\n",
            "Collecting GitPython>=1.0.0 (from wandb)\n",
            "\u001b[?25l  Downloading https://files.pythonhosted.org/packages/8e/c7/70bd352e8a561a9b6d1cde9aa313b9d7c871b0c94c3821f44c01f3187e1d/GitPython-3.0.2-py3-none-any.whl (453kB)\n",
            "\u001b[K     |████████████████████████████████| 460kB 42.7MB/s \n",
            "\u001b[?25hCollecting python-dateutil>=2.6.1 (from wandb)\n",
            "\u001b[?25l  Downloading https://files.pythonhosted.org/packages/41/17/c62faccbfbd163c7f57f3844689e3a78bae1f403648a6afb1d0866d87fbb/python_dateutil-2.8.0-py2.py3-none-any.whl (226kB)\n",
            "\u001b[K     |████████████████████████████████| 235kB 65.4MB/s \n",
            "\u001b[?25hRequirement already satisfied: PyYAML>=3.10 in /usr/local/lib/python3.6/dist-packages (from watchdog>=0.8.3->wandb) (3.13)\n",
            "Collecting argh>=0.24.1 (from watchdog>=0.8.3->wandb)\n",
            "  Downloading https://files.pythonhosted.org/packages/06/1c/e667a7126f0b84aaa1c56844337bf0ac12445d1beb9c8a6199a7314944bf/argh-0.26.2-py2.py3-none-any.whl\n",
            "Collecting pathtools>=0.1.1 (from watchdog>=0.8.3->wandb)\n",
            "  Downloading https://files.pythonhosted.org/packages/e7/7f/470d6fcdf23f9f3518f6b0b76be9df16dcc8630ad409947f8be2eb0ed13a/pathtools-0.1.2.tar.gz\n",
            "Requirement already satisfied: urllib3<1.25,>=1.21.1 in /usr/local/lib/python3.6/dist-packages (from requests>=2.0.0->wandb) (1.24.3)\n",
            "Requirement already satisfied: idna<2.9,>=2.5 in /usr/local/lib/python3.6/dist-packages (from requests>=2.0.0->wandb) (2.8)\n",
            "Requirement already satisfied: chardet<3.1.0,>=3.0.2 in /usr/local/lib/python3.6/dist-packages (from requests>=2.0.0->wandb) (3.0.4)\n",
            "Requirement already satisfied: certifi>=2017.4.17 in /usr/local/lib/python3.6/dist-packages (from requests>=2.0.0->wandb) (2019.6.16)\n",
            "Collecting graphql-core>=0.5.0 (from gql>=0.1.0->wandb)\n",
            "\u001b[?25l  Downloading https://files.pythonhosted.org/packages/6a/11/bc4a7eb440124271289d93e4d208bd07d94196038fabbe2a52435a07d3d3/graphql_core-2.2.1-py2.py3-none-any.whl (250kB)\n",
            "\u001b[K     |████████████████████████████████| 256kB 50.8MB/s \n",
            "\u001b[?25hRequirement already satisfied: promise>=0.4.0 in /usr/local/lib/python3.6/dist-packages (from gql>=0.1.0->wandb) (2.2.1)\n",
            "Collecting gitdb2>=2.0.0 (from GitPython>=1.0.0->wandb)\n",
            "\u001b[?25l  Downloading https://files.pythonhosted.org/packages/da/30/a407568aa8d8f25db817cf50121a958722f3fc5f87e3a6fba1f40c0633e3/gitdb2-2.0.5-py2.py3-none-any.whl (62kB)\n",
            "\u001b[K     |████████████████████████████████| 71kB 28.6MB/s \n",
            "\u001b[?25hCollecting rx<3,>=1.6 (from graphql-core>=0.5.0->gql>=0.1.0->wandb)\n",
            "\u001b[?25l  Downloading https://files.pythonhosted.org/packages/33/0f/5ef4ac78e2a538cc1b054eb86285fe0bf7a5dbaeaac2c584757c300515e2/Rx-1.6.1-py2.py3-none-any.whl (179kB)\n",
            "\u001b[K     |████████████████████████████████| 184kB 44.6MB/s \n",
            "\u001b[?25hCollecting smmap2>=2.0.0 (from gitdb2>=2.0.0->GitPython>=1.0.0->wandb)\n",
            "  Downloading https://files.pythonhosted.org/packages/55/d2/866d45e3a121ee15a1dc013824d58072fd5c7799c9c34d01378eb262ca8f/smmap2-2.0.5-py2.py3-none-any.whl\n",
            "Building wheels for collected packages: watchdog, gql, shortuuid, subprocess32, pathtools\n",
            "  Building wheel for watchdog (setup.py) ... \u001b[?25l\u001b[?25hdone\n",
            "  Created wheel for watchdog: filename=watchdog-0.9.0-cp36-none-any.whl size=73652 sha256=0a3b4f45b84c36ab3e46918b9c0c8b256c2e28ac8298a856917f7a0b7b1a9361\n",
            "  Stored in directory: /root/.cache/pip/wheels/61/1d/d0/04cfe495619be2095eb8d89a31c42adb4e42b76495bc8f784c\n",
            "  Building wheel for gql (setup.py) ... \u001b[?25l\u001b[?25hdone\n",
            "  Created wheel for gql: filename=gql-0.1.0-cp36-none-any.whl size=5541 sha256=fbc5a7e69d58a7a2319ff3f582546e763df4ad0966698961c896d30403eae352\n",
            "  Stored in directory: /root/.cache/pip/wheels/a7/8d/65/a3247f500d675d80a01e4d2f0ee44fe99f1faef575bc2a1664\n",
            "  Building wheel for shortuuid (setup.py) ... \u001b[?25l\u001b[?25hdone\n",
            "  Created wheel for shortuuid: filename=shortuuid-0.5.0-cp36-none-any.whl size=5499 sha256=ae66a71066c31e58cd949b2b9cabba2436d256859bf7144bf55427a166b20062\n",
            "  Stored in directory: /root/.cache/pip/wheels/3f/eb/fd/69e5177f67b505e44acbd1aedfbe44b91768ee0c4cd5636576\n",
            "  Building wheel for subprocess32 (setup.py) ... \u001b[?25l\u001b[?25hdone\n",
            "  Created wheel for subprocess32: filename=subprocess32-3.5.4-cp36-none-any.whl size=6489 sha256=2958250e8f9bc859d38c89df6393d8d07929247fe37a3b12ca1e1dd3e5b05136\n",
            "  Stored in directory: /root/.cache/pip/wheels/68/39/1a/5e402bdfdf004af1786c8b853fd92f8c4a04f22aad179654d1\n",
            "  Building wheel for pathtools (setup.py) ... \u001b[?25l\u001b[?25hdone\n",
            "  Created wheel for pathtools: filename=pathtools-0.1.2-cp36-none-any.whl size=8786 sha256=b19870a79d47f3ca76ef84f957fd2ab825959fe6e433789dd38bf12780670448\n",
            "  Stored in directory: /root/.cache/pip/wheels/0b/04/79/c3b0c3a0266a3cb4376da31e5bfe8bba0c489246968a68e843\n",
            "Successfully built watchdog gql shortuuid subprocess32 pathtools\n",
            "\u001b[31mERROR: albumentations 0.1.12 has requirement imgaug<0.2.7,>=0.2.5, but you'll have imgaug 0.2.9 which is incompatible.\u001b[0m\n",
            "Installing collected packages: argh, pathtools, watchdog, sentry-sdk, rx, graphql-core, gql, docker-pycreds, shortuuid, subprocess32, smmap2, gitdb2, GitPython, python-dateutil, wandb\n",
            "  Found existing installation: python-dateutil 2.5.3\n",
            "    Uninstalling python-dateutil-2.5.3:\n",
            "      Successfully uninstalled python-dateutil-2.5.3\n",
            "Successfully installed GitPython-3.0.2 argh-0.26.2 docker-pycreds-0.4.0 gitdb2-2.0.5 gql-0.1.0 graphql-core-2.2.1 pathtools-0.1.2 python-dateutil-2.8.0 rx-1.6.1 sentry-sdk-0.11.2 shortuuid-0.5.0 smmap2-2.0.5 subprocess32-3.5.4 wandb-0.8.9 watchdog-0.9.0\n"
          ],
          "name": "stdout"
        },
        {
          "output_type": "display_data",
          "data": {
            "application/vnd.colab-display-data+json": {
              "pip_warning": {
                "packages": [
                  "dateutil"
                ]
              }
            }
          },
          "metadata": {
            "tags": []
          }
        }
      ]
    },
    {
      "cell_type": "code",
      "metadata": {
        "id": "oxZRmXUNA-vI",
        "colab_type": "code",
        "outputId": "a6b3d704-27d7-4944-d502-58b96378a3ea",
        "colab": {
          "base_uri": "https://localhost:8080/",
          "height": 17
        }
      },
      "source": [
        "!wandb login\n"
      ],
      "execution_count": 0,
      "outputs": [
        {
          "output_type": "stream",
          "text": [
            "You can find your API keys in your browser here: https://app.wandb.ai/authorize\n",
            "Paste an API key from your profile: "
          ],
          "name": "stdout"
        }
      ]
    },
    {
      "cell_type": "markdown",
      "metadata": {
        "id": "d-g-jPz_DZi_",
        "colab_type": "text"
      },
      "source": [
        "## Single Perceptron \n",
        "Classify if a the input image is a 5 or not "
      ]
    },
    {
      "cell_type": "code",
      "metadata": {
        "id": "bhQ_ataMCr0P",
        "colab_type": "code",
        "colab": {}
      },
      "source": [
        "from keras.datasets import mnist\n",
        "from keras.models import Sequential\n",
        "from keras.layers import Dense, Flatten, Dropout\n",
        "from keras.utils import np_utils\n",
        "\n",
        "import wandb\n",
        "\n",
        "from wandb.keras import WandbCallback"
      ],
      "execution_count": 0,
      "outputs": []
    },
    {
      "cell_type": "code",
      "metadata": {
        "id": "Q-n28ymDBRya",
        "colab_type": "code",
        "outputId": "4efe03bd-a091-4ab7-9479-384a71ed170b",
        "colab": {
          "base_uri": "https://localhost:8080/",
          "height": 832
        }
      },
      "source": [
        "%%wandb\n",
        "\n",
        "# logging code\n",
        "run = wandb.init(project=\"mnist-singleperceptron\")\n",
        "config = run.config\n",
        "\n",
        "config.epochs = 10\n",
        "\n",
        "# load data\n",
        "(X_train, y_train), (X_test, y_test) = mnist.load_data()\n",
        "\n",
        "is_five_train = y_train == 5\n",
        "is_five_test = y_test == 5\n",
        "labels = [\"Not Five\", \"Is Five\"]\n",
        "\n",
        "img_width = X_train.shape[1]\n",
        "img_height = X_train.shape[2]\n",
        "\n",
        "# create model\n",
        "model=Sequential()\n",
        "model.add(Flatten(input_shape=(img_width,img_height)))\n",
        "model.add(Dense(1,activation='relu'))\n",
        "model.compile(loss='mse', optimizer='adam',\n",
        "                metrics=['accuracy'])\n",
        "#keras outputs the accuracy as algo learns\n",
        "\n",
        "\n",
        "# Fit the model\n",
        "model.fit(X_train, is_five_train, epochs=config.epochs, validation_data=(X_test, is_five_test),\n",
        "                    callbacks=[WandbCallback(labels=labels, data_type=\"image\")])\n"
      ],
      "execution_count": 0,
      "outputs": [
        {
          "output_type": "display_data",
          "data": {
            "text/html": [
              "<iframe src=\"https://app.wandb.ai/h-sandipan05/mnist-singleperceptron/runs/eersnmr6?apiKey=a94f6a1def208315550f8c5f4d32f6a31dbf140a?jupyter=true&state=paused\" style=\"border:none;width:100%;height:420px\">\n",
              "        </iframe>"
            ],
            "text/plain": [
              "<wandb.jupyter.Run at 0x7f0dbf2eb630>"
            ]
          },
          "metadata": {
            "tags": []
          }
        },
        {
          "output_type": "display_data",
          "data": {
            "text/html": [
              "\n",
              "        Notebook configured with <a href=\"https://wandb.com\" target=\"_blank\">W&B</a>. You can <a href=\"https://app.wandb.ai/h-sandipan05/mnist-singleperceptron/runs/bmld6i5d?apiKey=a94f6a1def208315550f8c5f4d32f6a31dbf140a\" target=\"_blank\">open</a> the run page, or call <code>%%wandb</code>\n",
              "        in a cell containing your training loop to display live results.  Learn more in our <a href=\"https://docs.wandb.com/docs/integrations/jupyter.html\" target=\"_blank\">docs</a>.\n",
              "    "
            ],
            "text/plain": [
              "<IPython.core.display.HTML object>"
            ]
          },
          "metadata": {
            "tags": []
          }
        },
        {
          "output_type": "stream",
          "text": [
            "Train on 60000 samples, validate on 10000 samples\n",
            "Epoch 1/10\n",
            "60000/60000 [==============================] - 5s 81us/step - loss: 40.2614 - acc: 0.9065 - val_loss: 0.2208 - val_acc: 0.9106\n",
            "Epoch 2/10\n",
            "60000/60000 [==============================] - 5s 77us/step - loss: 0.0943 - acc: 0.9096 - val_loss: 0.2008 - val_acc: 0.9107\n",
            "Epoch 3/10\n",
            "60000/60000 [==============================] - 5s 77us/step - loss: 0.0904 - acc: 0.9096 - val_loss: 0.1949 - val_acc: 0.9107\n",
            "Epoch 4/10\n",
            "60000/60000 [==============================] - 5s 77us/step - loss: 0.0903 - acc: 0.9097 - val_loss: 0.1949 - val_acc: 0.9107\n",
            "Epoch 5/10\n",
            "60000/60000 [==============================] - 5s 77us/step - loss: 0.0903 - acc: 0.9097 - val_loss: 0.1949 - val_acc: 0.9107\n",
            "Epoch 6/10\n",
            "60000/60000 [==============================] - 5s 77us/step - loss: 0.0903 - acc: 0.9097 - val_loss: 0.1949 - val_acc: 0.9107\n",
            "Epoch 7/10\n",
            "60000/60000 [==============================] - 5s 77us/step - loss: 0.0903 - acc: 0.9097 - val_loss: 0.1949 - val_acc: 0.9107\n",
            "Epoch 8/10\n",
            "60000/60000 [==============================] - 5s 78us/step - loss: 0.0903 - acc: 0.9097 - val_loss: 0.1949 - val_acc: 0.9107\n",
            "Epoch 9/10\n",
            "60000/60000 [==============================] - 5s 76us/step - loss: 0.0903 - acc: 0.9097 - val_loss: 0.1949 - val_acc: 0.9107\n",
            "Epoch 10/10\n",
            "60000/60000 [==============================] - 5s 76us/step - loss: 0.0903 - acc: 0.9097 - val_loss: 0.1949 - val_acc: 0.9107\n"
          ],
          "name": "stdout"
        },
        {
          "output_type": "execute_result",
          "data": {
            "text/plain": [
              "<keras.callbacks.History at 0x7f0dbf2f1eb8>"
            ]
          },
          "metadata": {
            "tags": []
          },
          "execution_count": 16
        }
      ]
    },
    {
      "cell_type": "markdown",
      "metadata": {
        "id": "lTqDfleRECYp",
        "colab_type": "text"
      },
      "source": [
        "## Classifying digits \n",
        "One hot encoding <br> Loss: categorical crossentropy\n",
        "<br>\n",
        "Softmax to output probabilites"
      ]
    },
    {
      "cell_type": "code",
      "metadata": {
        "id": "vgZpFusICo2Z",
        "colab_type": "code",
        "outputId": "de5c014c-ebc4-4a35-bf62-9a7b7bb16617",
        "colab": {
          "base_uri": "https://localhost:8080/",
          "height": 903
        }
      },
      "source": [
        "%%wandb\n",
        "from keras.datasets import mnist\n",
        "from keras.models import Sequential\n",
        "from keras.layers import Dense, Flatten, Dropout\n",
        "from keras.utils import np_utils\n",
        "\n",
        "import wandb\n",
        "\n",
        "from wandb.keras import WandbCallback\n",
        "run = wandb.init(project=\"mnist-classification\")\n",
        "config = run.config\n",
        "\n",
        "config.epochs = 10\n",
        "\n",
        "# load data\n",
        "(X_train, y_train), (X_test, y_test) = mnist.load_data()\n",
        "img_width = X_train.shape[1]\n",
        "img_height = X_train.shape[2]\n",
        "\n",
        "#one hot encodings\n",
        "y_train  = np_utils.to_categorical(y_train)\n",
        "y_test = np_utils.to_categorical(y_test)\n",
        "\n",
        "labels=list(range(10))\n",
        "num_classes = y_train.shape[1]\n",
        "\n",
        "model=Sequential()\n",
        "model.add(Flatten(input_shape=(img_width,img_height)))\n",
        "model.add(Dense(num_classes,activation=\"softmax\"))\n",
        "model.compile(loss=\"categorical_crossentropy\",optimizer=\"adam\",metrics=[\"accuracy\"])\n",
        "model.fit(X_train, y_train, epochs=10, validation_data=(X_test, y_test),\n",
        "                    callbacks=[WandbCallback(labels=labels, data_type=\"image\")])\n"
      ],
      "execution_count": 0,
      "outputs": [
        {
          "output_type": "display_data",
          "data": {
            "text/html": [
              "<iframe src=\"https://app.wandb.ai/h-sandipan05/mnist-singleperceptron/runs/bmld6i5d?apiKey=a94f6a1def208315550f8c5f4d32f6a31dbf140a?jupyter=true&state=paused\" style=\"border:none;width:100%;height:420px\">\n",
              "        </iframe>"
            ],
            "text/plain": [
              "<wandb.jupyter.Run at 0x7f0dbf2def98>"
            ]
          },
          "metadata": {
            "tags": []
          }
        },
        {
          "output_type": "display_data",
          "data": {
            "text/html": [
              "\n",
              "        Notebook configured with <a href=\"https://wandb.com\" target=\"_blank\">W&B</a>. You can <a href=\"https://app.wandb.ai/h-sandipan05/mnist-classification/runs/uk4bm3vi?apiKey=a94f6a1def208315550f8c5f4d32f6a31dbf140a\" target=\"_blank\">open</a> the run page, or call <code>%%wandb</code>\n",
              "        in a cell containing your training loop to display live results.  Learn more in our <a href=\"https://docs.wandb.com/docs/integrations/jupyter.html\" target=\"_blank\">docs</a>.\n",
              "    "
            ],
            "text/plain": [
              "<IPython.core.display.HTML object>"
            ]
          },
          "metadata": {
            "tags": []
          }
        },
        {
          "output_type": "stream",
          "text": [
            "W0820 22:36:28.214546 139698306963328 deprecation.py:323] From /usr/local/lib/python3.6/dist-packages/tensorflow/python/ops/math_grad.py:1250: add_dispatch_support.<locals>.wrapper (from tensorflow.python.ops.array_ops) is deprecated and will be removed in a future version.\n",
            "Instructions for updating:\n",
            "Use tf.where in 2.0, which has the same broadcast rule as np.where\n"
          ],
          "name": "stderr"
        },
        {
          "output_type": "stream",
          "text": [
            "Train on 60000 samples, validate on 10000 samples\n",
            "Epoch 1/10\n",
            "60000/60000 [==============================] - 6s 93us/step - loss: 6.4278 - acc: 0.5965 - val_loss: 4.2401 - val_acc: 0.7344\n",
            "Epoch 2/10\n",
            "60000/60000 [==============================] - 5s 89us/step - loss: 4.3687 - acc: 0.7262 - val_loss: 4.2796 - val_acc: 0.7324\n",
            "Epoch 3/10\n",
            "60000/60000 [==============================] - 5s 89us/step - loss: 4.3077 - acc: 0.7306 - val_loss: 4.0813 - val_acc: 0.7451\n",
            "Epoch 4/10\n",
            "60000/60000 [==============================] - 5s 88us/step - loss: 4.1753 - acc: 0.7392 - val_loss: 4.0987 - val_acc: 0.7441\n",
            "Epoch 5/10\n",
            "60000/60000 [==============================] - 5s 88us/step - loss: 4.1645 - acc: 0.7401 - val_loss: 4.1138 - val_acc: 0.7430\n",
            "Epoch 6/10\n",
            "60000/60000 [==============================] - 5s 88us/step - loss: 4.1337 - acc: 0.7420 - val_loss: 4.1864 - val_acc: 0.7386\n",
            "Epoch 7/10\n",
            "60000/60000 [==============================] - 5s 88us/step - loss: 4.1164 - acc: 0.7432 - val_loss: 4.1327 - val_acc: 0.7428\n",
            "Epoch 8/10\n",
            "60000/60000 [==============================] - 5s 88us/step - loss: 4.0950 - acc: 0.7447 - val_loss: 4.0554 - val_acc: 0.7471\n",
            "Epoch 9/10\n",
            "60000/60000 [==============================] - 5s 91us/step - loss: 4.0543 - acc: 0.7474 - val_loss: 4.1050 - val_acc: 0.7444\n",
            "Epoch 10/10\n",
            "60000/60000 [==============================] - 5s 91us/step - loss: 4.0838 - acc: 0.7453 - val_loss: 4.0117 - val_acc: 0.7500\n"
          ],
          "name": "stdout"
        },
        {
          "output_type": "execute_result",
          "data": {
            "text/plain": [
              "<keras.callbacks.History at 0x7f0dba0d78d0>"
            ]
          },
          "metadata": {
            "tags": []
          },
          "execution_count": 17
        }
      ]
    },
    {
      "cell_type": "code",
      "metadata": {
        "id": "Dt17Rq7nJ6Zn",
        "colab_type": "code",
        "outputId": "38874ae9-5aa4-4bb2-f457-058280ed31b2",
        "colab": {
          "base_uri": "https://localhost:8080/",
          "height": 187
        }
      },
      "source": [
        "print(y_test[:10])"
      ],
      "execution_count": 0,
      "outputs": [
        {
          "output_type": "stream",
          "text": [
            "[[0. 0. 0. 0. 0. 0. 0. 1. 0. 0.]\n",
            " [0. 0. 1. 0. 0. 0. 0. 0. 0. 0.]\n",
            " [0. 1. 0. 0. 0. 0. 0. 0. 0. 0.]\n",
            " [1. 0. 0. 0. 0. 0. 0. 0. 0. 0.]\n",
            " [0. 0. 0. 0. 1. 0. 0. 0. 0. 0.]\n",
            " [0. 1. 0. 0. 0. 0. 0. 0. 0. 0.]\n",
            " [0. 0. 0. 0. 1. 0. 0. 0. 0. 0.]\n",
            " [0. 0. 0. 0. 0. 0. 0. 0. 0. 1.]\n",
            " [0. 0. 0. 0. 0. 1. 0. 0. 0. 0.]\n",
            " [0. 0. 0. 0. 0. 0. 0. 0. 0. 1.]]\n"
          ],
          "name": "stdout"
        }
      ]
    },
    {
      "cell_type": "code",
      "metadata": {
        "id": "Qm3fbLiE2aGj",
        "colab_type": "code",
        "outputId": "1f6a14dd-85ce-47b1-9e23-97e5322aacee",
        "colab": {
          "base_uri": "https://localhost:8080/",
          "height": 204
        }
      },
      "source": [
        "model.summary()"
      ],
      "execution_count": 0,
      "outputs": [
        {
          "output_type": "stream",
          "text": [
            "_________________________________________________________________\n",
            "Layer (type)                 Output Shape              Param #   \n",
            "=================================================================\n",
            "flatten_3 (Flatten)          (None, 784)               0         \n",
            "_________________________________________________________________\n",
            "dense_3 (Dense)              (None, 10)                7850      \n",
            "=================================================================\n",
            "Total params: 7,850\n",
            "Trainable params: 7,850\n",
            "Non-trainable params: 0\n",
            "_________________________________________________________________\n"
          ],
          "name": "stdout"
        }
      ]
    },
    {
      "cell_type": "markdown",
      "metadata": {
        "id": "_HREXCHLvPs9",
        "colab_type": "text"
      },
      "source": [
        "## Normalizing the data\n",
        "\n",
        "Lets see if normalizing the data in the range of (0,1) improves accuracy"
      ]
    },
    {
      "cell_type": "code",
      "metadata": {
        "id": "O5hH2xyE3Abl",
        "colab_type": "code",
        "colab": {}
      },
      "source": [
        "X_train = X_train.astype(\"float\")\n",
        "X_test = X_test.astype('float')\n",
        "X_train = X_train / 255.0\n",
        "X_test = X_test /255.0    # 255 is the highest value of the pixels\n"
      ],
      "execution_count": 0,
      "outputs": []
    },
    {
      "cell_type": "code",
      "metadata": {
        "id": "mnzYbQR1wIgo",
        "colab_type": "code",
        "outputId": "69501c7d-0725-4765-9888-344dcca643a6",
        "colab": {
          "base_uri": "https://localhost:8080/",
          "height": 869
        }
      },
      "source": [
        "%%wandb\n",
        "model.fit(X_train, y_train, epochs=10, validation_data=(X_test, y_test),\n",
        "                    callbacks=[WandbCallback(labels=labels, data_type=\"image\")])"
      ],
      "execution_count": 0,
      "outputs": [
        {
          "output_type": "display_data",
          "data": {
            "text/html": [
              "<iframe src=\"https://app.wandb.ai/h-sandipan05/mnist-classification/runs/uk4bm3vi?apiKey=a94f6a1def208315550f8c5f4d32f6a31dbf140a?jupyter=true&state=paused\" style=\"border:none;width:100%;height:420px\">\n",
              "        </iframe>"
            ],
            "text/plain": [
              "<wandb.jupyter.Run at 0x7f0dbf2eb240>"
            ]
          },
          "metadata": {
            "tags": []
          }
        },
        {
          "output_type": "stream",
          "text": [
            "Train on 60000 samples, validate on 10000 samples\n",
            "Epoch 1/10\n",
            " 1920/60000 [..............................] - ETA: 10s - loss: 0.5643 - acc: 0.8490"
          ],
          "name": "stdout"
        },
        {
          "output_type": "stream",
          "text": [
            "/usr/local/lib/python3.6/dist-packages/keras/callbacks.py:122: UserWarning: Method on_batch_end() is slow compared to the batch update (0.188443). Check your callbacks.\n",
            "  % delta_t_median)\n"
          ],
          "name": "stderr"
        },
        {
          "output_type": "stream",
          "text": [
            "60000/60000 [==============================] - 6s 93us/step - loss: 0.3827 - acc: 0.9000 - val_loss: 0.3371 - val_acc: 0.9118\n",
            "Epoch 2/10\n",
            "60000/60000 [==============================] - 5s 89us/step - loss: 0.3344 - acc: 0.9108 - val_loss: 0.3102 - val_acc: 0.9167\n",
            "Epoch 3/10\n",
            "60000/60000 [==============================] - 5s 90us/step - loss: 0.3098 - acc: 0.9170 - val_loss: 0.2935 - val_acc: 0.9196\n",
            "Epoch 4/10\n",
            "60000/60000 [==============================] - 5s 89us/step - loss: 0.2913 - acc: 0.9205 - val_loss: 0.2811 - val_acc: 0.9229\n",
            "Epoch 5/10\n",
            "60000/60000 [==============================] - 5s 88us/step - loss: 0.2784 - acc: 0.9232 - val_loss: 0.2745 - val_acc: 0.9228\n",
            "Epoch 6/10\n",
            "60000/60000 [==============================] - 5s 88us/step - loss: 0.2701 - acc: 0.9244 - val_loss: 0.2670 - val_acc: 0.9265\n",
            "Epoch 7/10\n",
            "60000/60000 [==============================] - 5s 88us/step - loss: 0.2640 - acc: 0.9273 - val_loss: 0.2649 - val_acc: 0.9263\n",
            "Epoch 8/10\n",
            "60000/60000 [==============================] - 5s 88us/step - loss: 0.2598 - acc: 0.9268 - val_loss: 0.2650 - val_acc: 0.9269\n",
            "Epoch 9/10\n",
            "60000/60000 [==============================] - 5s 88us/step - loss: 0.2562 - acc: 0.9293 - val_loss: 0.2689 - val_acc: 0.9247\n",
            "Epoch 10/10\n",
            "60000/60000 [==============================] - 5s 88us/step - loss: 0.2535 - acc: 0.9296 - val_loss: 0.2650 - val_acc: 0.9271\n"
          ],
          "name": "stdout"
        },
        {
          "output_type": "execute_result",
          "data": {
            "text/plain": [
              "<keras.callbacks.History at 0x7f0db9eb5ac8>"
            ]
          },
          "metadata": {
            "tags": []
          },
          "execution_count": 21
        }
      ]
    },
    {
      "cell_type": "markdown",
      "metadata": {
        "id": "Lw9cJXomwcjv",
        "colab_type": "text"
      },
      "source": [
        "### Normalizing result \n",
        "We see that normalizing our data improves the accuracy from 0.65 to 0.92"
      ]
    },
    {
      "cell_type": "markdown",
      "metadata": {
        "id": "l2EsmDWzwzia",
        "colab_type": "text"
      },
      "source": [
        "## Using Hidden layer\n",
        "Lets see if adding hidden layers improves the network"
      ]
    },
    {
      "cell_type": "code",
      "metadata": {
        "id": "UbMhyrirwb5S",
        "colab_type": "code",
        "outputId": "bae08208-a07f-4bd4-d00f-b275d88dc446",
        "colab": {
          "base_uri": "https://localhost:8080/",
          "height": 869
        }
      },
      "source": [
        "%%wandb\n",
        "run = wandb.init(project=\"mnist-classification\",sync_tensorboard=True)\n",
        "config = run.config\n",
        "## parameters\n",
        "config.epochs = 10\n",
        "config.optimizer =\"adam\"\n",
        "config.hidden_nodes = 100\n",
        "\n",
        "## Create model\n",
        "model1 = Sequential()\n",
        "model1.add(Flatten(input_shape=(img_width,img_height)))\n",
        "model1.add(Dense(config.hidden_nodes,activation =\"relu\"))\n",
        "model1.add(Dense(num_classes,activation =\"softmax\"))\n",
        "model1.compile(loss=\"categorical_crossentropy\",optimizer=config.optimizer,metrics=[\"accuracy\"])\n",
        "\n",
        "\n",
        "model.fit(X_train, y_train, epochs=10, validation_data=(X_test, y_test),\n",
        "                    callbacks=[WandbCallback(labels=labels, data_type=\"image\")])"
      ],
      "execution_count": 0,
      "outputs": [
        {
          "output_type": "display_data",
          "data": {
            "text/html": [
              "<iframe src=\"https://app.wandb.ai/h-sandipan05/mnist-classification/runs/nr3lev4h?apiKey=a94f6a1def208315550f8c5f4d32f6a31dbf140a?jupyter=true&state=paused\" style=\"border:none;width:100%;height:420px\">\n",
              "        </iframe>"
            ],
            "text/plain": [
              "<wandb.jupyter.Run at 0x7f0dba0e7e48>"
            ]
          },
          "metadata": {
            "tags": []
          }
        },
        {
          "output_type": "display_data",
          "data": {
            "text/html": [
              "\n",
              "        Notebook configured with <a href=\"https://wandb.com\" target=\"_blank\">W&B</a>. You can <a href=\"https://app.wandb.ai/h-sandipan05/mnist-classification/runs/823q1wqv?apiKey=a94f6a1def208315550f8c5f4d32f6a31dbf140a\" target=\"_blank\">open</a> the run page, or call <code>%%wandb</code>\n",
              "        in a cell containing your training loop to display live results.  Learn more in our <a href=\"https://docs.wandb.com/docs/integrations/jupyter.html\" target=\"_blank\">docs</a>.\n",
              "    "
            ],
            "text/plain": [
              "<IPython.core.display.HTML object>"
            ]
          },
          "metadata": {
            "tags": []
          }
        },
        {
          "output_type": "stream",
          "text": [
            "Train on 60000 samples, validate on 10000 samples\n",
            "Epoch 1/10\n",
            "60000/60000 [==============================] - 6s 96us/step - loss: 0.2391 - acc: 0.9336 - val_loss: 0.2683 - val_acc: 0.9261\n",
            "Epoch 2/10\n",
            "60000/60000 [==============================] - 6s 93us/step - loss: 0.2381 - acc: 0.9342 - val_loss: 0.2718 - val_acc: 0.9261\n",
            "Epoch 3/10\n",
            "60000/60000 [==============================] - 6s 93us/step - loss: 0.2381 - acc: 0.9344 - val_loss: 0.2716 - val_acc: 0.9254\n",
            "Epoch 4/10\n",
            "60000/60000 [==============================] - 6s 93us/step - loss: 0.2374 - acc: 0.9341 - val_loss: 0.2724 - val_acc: 0.9274\n",
            "Epoch 5/10\n",
            "60000/60000 [==============================] - 6s 93us/step - loss: 0.2367 - acc: 0.9344 - val_loss: 0.2680 - val_acc: 0.9275\n",
            "Epoch 6/10\n",
            "60000/60000 [==============================] - 5s 92us/step - loss: 0.2358 - acc: 0.9352 - val_loss: 0.2747 - val_acc: 0.9258\n",
            "Epoch 7/10\n",
            "60000/60000 [==============================] - 6s 93us/step - loss: 0.2356 - acc: 0.9347 - val_loss: 0.2710 - val_acc: 0.9278\n",
            "Epoch 8/10\n",
            "60000/60000 [==============================] - 6s 93us/step - loss: 0.2346 - acc: 0.9358 - val_loss: 0.2727 - val_acc: 0.9276\n",
            "Epoch 9/10\n",
            "60000/60000 [==============================] - 6s 93us/step - loss: 0.2343 - acc: 0.9352 - val_loss: 0.2733 - val_acc: 0.9271\n",
            "Epoch 10/10\n",
            "60000/60000 [==============================] - 6s 93us/step - loss: 0.2343 - acc: 0.9345 - val_loss: 0.2741 - val_acc: 0.9276\n"
          ],
          "name": "stdout"
        },
        {
          "output_type": "execute_result",
          "data": {
            "text/plain": [
              "<keras.callbacks.History at 0x7f0dbbb134e0>"
            ]
          },
          "metadata": {
            "tags": []
          },
          "execution_count": 25
        }
      ]
    },
    {
      "cell_type": "code",
      "metadata": {
        "id": "kL97rIEzwRdm",
        "colab_type": "code",
        "colab": {}
      },
      "source": [
        "print(X_train[:1])"
      ],
      "execution_count": 0,
      "outputs": []
    },
    {
      "cell_type": "code",
      "metadata": {
        "id": "TO9hRxHnzRyg",
        "colab_type": "code",
        "outputId": "5fc8f67c-14c2-4763-9597-0bbee97f90f6",
        "colab": {
          "base_uri": "https://localhost:8080/",
          "height": 920
        }
      },
      "source": [
        "%%wandb\n",
        "import numpy as np\n",
        "from keras.datasets import mnist\n",
        "from keras.models import Sequential\n",
        "from keras.layers import Dense, Flatten, Dropout\n",
        "from keras.utils import np_utils\n",
        "from keras.callbacks import Callback\n",
        "import json\n",
        "\n",
        "from wandb.keras import WandbCallback\n",
        "import wandb\n",
        "\n",
        "run = wandb.init(project=\"mnist-classification\",sync_tensorboard=True)\n",
        "config = run.config\n",
        "\n",
        "config.epochs = 10\n",
        "config.optimizer = \"adam\"\n",
        "config.hidden_nodes = 100\n",
        "\n",
        "# load data\n",
        "(X_train, y_train), (X_test, y_test) = mnist.load_data()\n",
        "img_width = X_train.shape[1]\n",
        "img_height = X_train.shape[2]\n",
        "\n",
        "X_train = X_train.astype('float32')\n",
        "X_train /= 255.\n",
        "X_test = X_test.astype('float32')\n",
        "X_test /= 255.\n",
        "\n",
        "# one hot encode outputs\n",
        "y_train = np_utils.to_categorical(y_train)\n",
        "y_test = np_utils.to_categorical(y_test)\n",
        "labels = range(10)\n",
        "\n",
        "num_classes = y_train.shape[1]\n",
        "\n",
        "\n",
        "# create model\n",
        "model=Sequential()\n",
        "model.add(Flatten(input_shape=(img_width,img_height)))\n",
        "model.add(Dropout(0.4))\n",
        "model.add(Dense(config.hidden_nodes, activation='relu'))\n",
        "model.add(Dropout(0.4))\n",
        "model.add(Dense(num_classes, activation='softmax'))\n",
        "model.compile(loss='categorical_crossentropy', optimizer=config.optimizer,\n",
        "                    metrics=['accuracy'])\n",
        "\n",
        "# Fit the model\n",
        "model.fit(X_train, y_train, validation_data=(X_test, y_test), \n",
        "      epochs=config.epochs,\n",
        "      callbacks=[WandbCallback(data_type=\"image\", labels=labels)])\n"
      ],
      "execution_count": 0,
      "outputs": [
        {
          "output_type": "display_data",
          "data": {
            "text/html": [
              "<iframe src=\"https://app.wandb.ai/h-sandipan05/mnist-classification/runs/uq9rudbu?apiKey=a94f6a1def208315550f8c5f4d32f6a31dbf140a?jupyter=true&state=paused\" style=\"border:none;width:100%;height:420px\">\n",
              "        </iframe>"
            ],
            "text/plain": [
              "<wandb.jupyter.Run at 0x7f0dbbaf8f98>"
            ]
          },
          "metadata": {
            "tags": []
          }
        },
        {
          "output_type": "display_data",
          "data": {
            "text/html": [
              "\n",
              "        Notebook configured with <a href=\"https://wandb.com\" target=\"_blank\">W&B</a>. You can <a href=\"https://app.wandb.ai/h-sandipan05/mnist-classification/runs/28uams4l?apiKey=a94f6a1def208315550f8c5f4d32f6a31dbf140a\" target=\"_blank\">open</a> the run page, or call <code>%%wandb</code>\n",
              "        in a cell containing your training loop to display live results.  Learn more in our <a href=\"https://docs.wandb.com/docs/integrations/jupyter.html\" target=\"_blank\">docs</a>.\n",
              "    "
            ],
            "text/plain": [
              "<IPython.core.display.HTML object>"
            ]
          },
          "metadata": {
            "tags": []
          }
        },
        {
          "output_type": "stream",
          "text": [
            "W0820 23:21:32.813400 139698306963328 deprecation.py:506] From /usr/local/lib/python3.6/dist-packages/keras/backend/tensorflow_backend.py:3445: calling dropout (from tensorflow.python.ops.nn_ops) with keep_prob is deprecated and will be removed in a future version.\n",
            "Instructions for updating:\n",
            "Please use `rate` instead of `keep_prob`. Rate should be set to `rate = 1 - keep_prob`.\n"
          ],
          "name": "stderr"
        },
        {
          "output_type": "stream",
          "text": [
            "Train on 60000 samples, validate on 10000 samples\n",
            "Epoch 1/10\n",
            "60000/60000 [==============================] - 7s 119us/step - loss: 0.5282 - acc: 0.8353 - val_loss: 0.2073 - val_acc: 0.9420\n",
            "Epoch 2/10\n",
            "60000/60000 [==============================] - 7s 111us/step - loss: 0.3250 - acc: 0.9011 - val_loss: 0.1518 - val_acc: 0.9542\n",
            "Epoch 3/10\n",
            "60000/60000 [==============================] - 7s 110us/step - loss: 0.2780 - acc: 0.9147 - val_loss: 0.1241 - val_acc: 0.9621\n",
            "Epoch 4/10\n",
            "60000/60000 [==============================] - 7s 109us/step - loss: 0.2546 - acc: 0.9211 - val_loss: 0.1163 - val_acc: 0.9650\n",
            "Epoch 5/10\n",
            "60000/60000 [==============================] - 7s 110us/step - loss: 0.2413 - acc: 0.9250 - val_loss: 0.1090 - val_acc: 0.9671\n",
            "Epoch 6/10\n",
            "60000/60000 [==============================] - 7s 109us/step - loss: 0.2306 - acc: 0.9287 - val_loss: 0.1022 - val_acc: 0.9712\n",
            "Epoch 7/10\n",
            "60000/60000 [==============================] - 7s 109us/step - loss: 0.2212 - acc: 0.9304 - val_loss: 0.1020 - val_acc: 0.9678\n",
            "Epoch 8/10\n",
            "60000/60000 [==============================] - 7s 109us/step - loss: 0.2149 - acc: 0.9326 - val_loss: 0.1019 - val_acc: 0.9696\n",
            "Epoch 9/10\n",
            "60000/60000 [==============================] - 7s 110us/step - loss: 0.2112 - acc: 0.9336 - val_loss: 0.0983 - val_acc: 0.9694\n",
            "Epoch 10/10\n",
            "60000/60000 [==============================] - 7s 109us/step - loss: 0.2094 - acc: 0.9340 - val_loss: 0.0919 - val_acc: 0.9720\n"
          ],
          "name": "stdout"
        },
        {
          "output_type": "execute_result",
          "data": {
            "text/plain": [
              "<keras.callbacks.History at 0x7f0dbb1b7630>"
            ]
          },
          "metadata": {
            "tags": []
          },
          "execution_count": 29
        }
      ]
    },
    {
      "cell_type": "markdown",
      "metadata": {
        "id": "db3PznU_SibL",
        "colab_type": "text"
      },
      "source": [
        "Dropout prevents the network from overfitting\n",
        "When training accuracy is better than validation accuracy it means overfitting"
      ]
    },
    {
      "cell_type": "code",
      "metadata": {
        "id": "82GPxR-sWBg5",
        "colab_type": "code",
        "outputId": "3017cf51-9a3b-45d0-fc84-e0d3251c2fbc",
        "colab": {
          "base_uri": "https://localhost:8080/",
          "height": 34
        }
      },
      "source": [
        "ls"
      ],
      "execution_count": 0,
      "outputs": [
        {
          "output_type": "stream",
          "text": [
            " puppy.jpg   \u001b[0m\u001b[01;34msample_data\u001b[0m/  'Screenshot from 2019-08-28 13-15-22.png'\n"
          ],
          "name": "stdout"
        }
      ]
    },
    {
      "cell_type": "markdown",
      "metadata": {
        "id": "kMBgaT3fWlEc",
        "colab_type": "text"
      },
      "source": [
        "## Convolutional Neural network\n",
        "MLP throws away a lot of data\n",
        "CNN takes advantages of the spatial structure in images\n",
        "We can find out about convolution operation and if it helps improve classification.\n",
        "1. Convolution of a kernel with the image\n",
        "2. "
      ]
    },
    {
      "cell_type": "code",
      "metadata": {
        "id": "cA56q8IiWjiD",
        "colab_type": "code",
        "colab": {}
      },
      "source": [
        "%matplotlib inline\n",
        "from PIL import Image\n",
        "from matplotlib import pyplot as plt\n",
        "import numpy\n",
        "from scipy.signal import convolve2d\n",
        "import cv2\n",
        "# from google.colab.patches import cv2_imshow\n",
        "kernel = [[0.1,0.1,0.1],\n",
        "          [0.1,0.1,0.1],\n",
        "          [0.1,0.1,0.1]]\n",
        "\n",
        "backgroundColor = (0,)*3\n",
        "pixelSize = 10\n",
        "imgFile = 'puppy.jpg'\n",
        "color = True\n",
        "\n",
        "def drawImage(channel):\n",
        "  image = Image.open(imgFile)\n",
        "  red, green, blue = image.split()\n",
        "  if channel == 'grey':\n",
        "    image = Image.open(imgFile).convert('LA')\n",
        "  elif channel == 'r':\n",
        "    image = red\n",
        "  elif channel == 'g':\n",
        "    image = green\n",
        "  elif channel == 'b':\n",
        "    image = blue\n",
        "\n",
        "\n",
        "  image = image.resize((image.size[0]//pixelSize, image.size[1]//pixelSize), Image.NEAREST)\n",
        "  image = image.resize((image.size[0]*pixelSize, image.size[1]*pixelSize), Image.NEAREST)\n",
        "  image = image.convert('RGB')\n",
        "  pixel = image.load()\n",
        "\n",
        "  \n",
        "  for i in range(0,image.size[0],pixelSize):\n",
        "    for j in range(0,image.size[1],pixelSize):\n",
        "      for r in range(pixelSize):\n",
        "        pixel[i+r,j] = backgroundColor\n",
        "        pixel[i,j+r] = backgroundColor\n",
        "\n",
        "        \n",
        "  return image\n",
        "\n",
        "def drawImageConv(kernel, x, y):\n",
        "  image = Image.open(imgFile)\n",
        "  image = image.resize((image.size[0]//pixelSize, image.size[1]//pixelSize), Image.NEAREST)\n",
        "\n",
        "  new_image = convolve2d(numpy.asarray(image)[:,:,0], kernel)\n",
        "  new_image = new_image.clip(0.0, 255.0)\n",
        "  for i in range(new_image.shape[0]):\n",
        "    for j in range(new_image.shape[1]):\n",
        "      if (i>y or (i==y and j>=x)):\n",
        "        new_image[i,j] = 0\n",
        "\n",
        "  \n",
        "  image = Image.fromarray(new_image)\n",
        "  image = image.convert('RGB')\n",
        "  image = image.resize((image.size[0]*pixelSize, image.size[1]*pixelSize), Image.NEAREST)\n",
        "  pixel = image.load()\n",
        "\n",
        "  \n",
        "  for i in range(0,image.size[0],pixelSize):\n",
        "    for j in range(0,image.size[1],pixelSize):\n",
        "      for r in range(pixelSize):\n",
        "        pixel[i+r,j] = backgroundColor\n",
        "        pixel[i,j+r] = backgroundColor\n",
        "\n",
        "    \n",
        "  return image\n",
        "\n",
        "def showImage(x,y):\n",
        "  if color:\n",
        "    imageR= drawImage('r')\n",
        "    imageG= drawImage('g')\n",
        "    imageB= drawImage('b')\n",
        "    opencvImageR = cv2.cvtColor(numpy.array(imageR), cv2.COLOR_RGB2BGR)\n",
        "    opencvImageG = cv2.cvtColor(numpy.array(imageG), cv2.COLOR_RGB2BGR)\n",
        "    opencvImageB = cv2.cvtColor(numpy.array(imageB), cv2.COLOR_RGB2BGR)\n",
        "    \n",
        "    convImage = drawImageConv(kernel, x, y)\n",
        "    opencvConvImage = cv2.cvtColor(numpy.array(convImage), cv2.COLOR_RGB2BGR)\n",
        "\n",
        "    cv2.rectangle(opencvImageR, (x*pixelSize,y*pixelSize), ((x+w)*pixelSize,(y+h)*pixelSize), (0,0,255))\n",
        "    cv2.rectangle(opencvImageG, (x*pixelSize,y*pixelSize), ((x+w)*pixelSize,(y+h)*pixelSize), (0,0,255))\n",
        "    cv2.rectangle(opencvImageB, (x*pixelSize,y*pixelSize), ((x+w)*pixelSize,(y+h)*pixelSize), (0,0,255))\n",
        "    plt.imshow('image red', opencvImageR)\n",
        "    plt.imshow('image green', opencvImageG)\n",
        "    plt.imshow('image blue', opencvImageB)\n",
        "    plt.imshow('image out', opencvConvImage)\n",
        "  else:\n",
        "    image= drawImage('grey')\n",
        "    opencvImage = cv2.cvtColor(numpy.array(image), cv2.COLOR_RGB2BGR)\n",
        "    \n",
        "    convImage = drawImageConv(kernel, x, y)\n",
        "    opencvConvImage = cv2.cvtColor(numpy.array(convImage), cv2.COLOR_RGB2BGR)\n",
        "\n",
        "    cv2.rectangle(opencvImage, (x*pixelSize,y*pixelSize), ((x+w)*pixelSize,(y+h)*pixelSize), (0,0,255))\n",
        "    plt.imshow('image', opencvImage)\n",
        "    plt.imshow('image conv', opencvConvImage)\n",
        "\n",
        "\n",
        "\n",
        "\n",
        "x = 0\n",
        "w = 3\n",
        "h = 3\n",
        "y = 0\n",
        "\n",
        "\n",
        "\n",
        "\n",
        "while(True):\n",
        "\n",
        "  k = cv2.waitKey(0)\n",
        "  if k == 27:         # wait for ESC key to exit\n",
        "    cv2.destroyAllWindows()\n",
        "    break\n",
        "  elif k == 32:\n",
        "    showImage(100, 100)\n",
        "  else:\n",
        "    showImage(x,y)\n",
        "    x+=1\n",
        "    if (x > 32):\n",
        "      x = 0\n",
        "      y += 1\n",
        "    \n",
        "\n",
        "\n"
      ],
      "execution_count": 0,
      "outputs": []
    },
    {
      "cell_type": "code",
      "metadata": {
        "id": "b9vFUZDjLlNz",
        "colab_type": "code",
        "outputId": "8f61830f-dc43-4c25-d5a1-a5ebfd711992",
        "colab": {
          "base_uri": "https://localhost:8080/",
          "height": 609
        }
      },
      "source": [
        "%matplotlib inline\n",
        "from matplotlib import pyplot as plt\n",
        "import cv2\n",
        "from PIL import Image\n",
        "import numpy as np\n",
        "from scipy.signal import convolve2d\n",
        "img = cv2.imread('puppy.jpg')\n",
        "\n",
        "b,g,r = (img[:,:,i] for i in range(3))\n",
        "# plt.imshow(b)\n",
        "# plt.show()\n",
        "kernel = [[0.1,0.1,0.1],\n",
        "          [0.1,0.1,0.1],\n",
        "          [0.1,0.1,0.1]]\n",
        "\n",
        "# print(a.shape)\n",
        "gray= cv2.cvtColor(np.array(img), cv2.COLOR_BGR2GRAY)\n",
        "# pix = gray.resize((gray.shape[0],gray.shape[1]),cv2.INTER_CUBIC)\n",
        "print(gray.shape)\n",
        "plt.figure(\"grau\")\n",
        "plt.imshow(pix)"
      ],
      "execution_count": 0,
      "outputs": [
        {
          "output_type": "stream",
          "text": [
            "(640, 506)\n"
          ],
          "name": "stdout"
        },
        {
          "output_type": "error",
          "ename": "TypeError",
          "evalue": "ignored",
          "traceback": [
            "\u001b[0;31m---------------------------------------------------------------------------\u001b[0m",
            "\u001b[0;31mTypeError\u001b[0m                                 Traceback (most recent call last)",
            "\u001b[0;32m<ipython-input-24-e8a202397601>\u001b[0m in \u001b[0;36m<module>\u001b[0;34m()\u001b[0m\n\u001b[1;32m     19\u001b[0m \u001b[0mprint\u001b[0m\u001b[0;34m(\u001b[0m\u001b[0mgray\u001b[0m\u001b[0;34m.\u001b[0m\u001b[0mshape\u001b[0m\u001b[0;34m)\u001b[0m\u001b[0;34m\u001b[0m\u001b[0;34m\u001b[0m\u001b[0m\n\u001b[1;32m     20\u001b[0m \u001b[0mplt\u001b[0m\u001b[0;34m.\u001b[0m\u001b[0mfigure\u001b[0m\u001b[0;34m(\u001b[0m\u001b[0;34m\"grau\"\u001b[0m\u001b[0;34m)\u001b[0m\u001b[0;34m\u001b[0m\u001b[0;34m\u001b[0m\u001b[0m\n\u001b[0;32m---> 21\u001b[0;31m \u001b[0mplt\u001b[0m\u001b[0;34m.\u001b[0m\u001b[0mimshow\u001b[0m\u001b[0;34m(\u001b[0m\u001b[0mpix\u001b[0m\u001b[0;34m)\u001b[0m\u001b[0;34m\u001b[0m\u001b[0;34m\u001b[0m\u001b[0m\n\u001b[0m",
            "\u001b[0;32m/usr/local/lib/python3.6/dist-packages/matplotlib/pyplot.py\u001b[0m in \u001b[0;36mimshow\u001b[0;34m(X, cmap, norm, aspect, interpolation, alpha, vmin, vmax, origin, extent, shape, filternorm, filterrad, imlim, resample, url, data, **kwargs)\u001b[0m\n\u001b[1;32m   2697\u001b[0m         \u001b[0mfilternorm\u001b[0m\u001b[0;34m=\u001b[0m\u001b[0mfilternorm\u001b[0m\u001b[0;34m,\u001b[0m \u001b[0mfilterrad\u001b[0m\u001b[0;34m=\u001b[0m\u001b[0mfilterrad\u001b[0m\u001b[0;34m,\u001b[0m \u001b[0mimlim\u001b[0m\u001b[0;34m=\u001b[0m\u001b[0mimlim\u001b[0m\u001b[0;34m,\u001b[0m\u001b[0;34m\u001b[0m\u001b[0;34m\u001b[0m\u001b[0m\n\u001b[1;32m   2698\u001b[0m         resample=resample, url=url, **({\"data\": data} if data is not\n\u001b[0;32m-> 2699\u001b[0;31m         None else {}), **kwargs)\n\u001b[0m\u001b[1;32m   2700\u001b[0m     \u001b[0msci\u001b[0m\u001b[0;34m(\u001b[0m\u001b[0m__ret\u001b[0m\u001b[0;34m)\u001b[0m\u001b[0;34m\u001b[0m\u001b[0;34m\u001b[0m\u001b[0m\n\u001b[1;32m   2701\u001b[0m     \u001b[0;32mreturn\u001b[0m \u001b[0m__ret\u001b[0m\u001b[0;34m\u001b[0m\u001b[0;34m\u001b[0m\u001b[0m\n",
            "\u001b[0;32m/usr/local/lib/python3.6/dist-packages/matplotlib/__init__.py\u001b[0m in \u001b[0;36minner\u001b[0;34m(ax, data, *args, **kwargs)\u001b[0m\n\u001b[1;32m   1808\u001b[0m                         \u001b[0;34m\"the Matplotlib list!)\"\u001b[0m \u001b[0;34m%\u001b[0m \u001b[0;34m(\u001b[0m\u001b[0mlabel_namer\u001b[0m\u001b[0;34m,\u001b[0m \u001b[0mfunc\u001b[0m\u001b[0;34m.\u001b[0m\u001b[0m__name__\u001b[0m\u001b[0;34m)\u001b[0m\u001b[0;34m,\u001b[0m\u001b[0;34m\u001b[0m\u001b[0;34m\u001b[0m\u001b[0m\n\u001b[1;32m   1809\u001b[0m                         RuntimeWarning, stacklevel=2)\n\u001b[0;32m-> 1810\u001b[0;31m             \u001b[0;32mreturn\u001b[0m \u001b[0mfunc\u001b[0m\u001b[0;34m(\u001b[0m\u001b[0max\u001b[0m\u001b[0;34m,\u001b[0m \u001b[0;34m*\u001b[0m\u001b[0margs\u001b[0m\u001b[0;34m,\u001b[0m \u001b[0;34m**\u001b[0m\u001b[0mkwargs\u001b[0m\u001b[0;34m)\u001b[0m\u001b[0;34m\u001b[0m\u001b[0;34m\u001b[0m\u001b[0m\n\u001b[0m\u001b[1;32m   1811\u001b[0m \u001b[0;34m\u001b[0m\u001b[0m\n\u001b[1;32m   1812\u001b[0m         inner.__doc__ = _add_data_doc(inner.__doc__,\n",
            "\u001b[0;32m/usr/local/lib/python3.6/dist-packages/matplotlib/axes/_axes.py\u001b[0m in \u001b[0;36mimshow\u001b[0;34m(self, X, cmap, norm, aspect, interpolation, alpha, vmin, vmax, origin, extent, shape, filternorm, filterrad, imlim, resample, url, **kwargs)\u001b[0m\n\u001b[1;32m   5492\u001b[0m                               resample=resample, **kwargs)\n\u001b[1;32m   5493\u001b[0m \u001b[0;34m\u001b[0m\u001b[0m\n\u001b[0;32m-> 5494\u001b[0;31m         \u001b[0mim\u001b[0m\u001b[0;34m.\u001b[0m\u001b[0mset_data\u001b[0m\u001b[0;34m(\u001b[0m\u001b[0mX\u001b[0m\u001b[0;34m)\u001b[0m\u001b[0;34m\u001b[0m\u001b[0;34m\u001b[0m\u001b[0m\n\u001b[0m\u001b[1;32m   5495\u001b[0m         \u001b[0mim\u001b[0m\u001b[0;34m.\u001b[0m\u001b[0mset_alpha\u001b[0m\u001b[0;34m(\u001b[0m\u001b[0malpha\u001b[0m\u001b[0;34m)\u001b[0m\u001b[0;34m\u001b[0m\u001b[0;34m\u001b[0m\u001b[0m\n\u001b[1;32m   5496\u001b[0m         \u001b[0;32mif\u001b[0m \u001b[0mim\u001b[0m\u001b[0;34m.\u001b[0m\u001b[0mget_clip_path\u001b[0m\u001b[0;34m(\u001b[0m\u001b[0;34m)\u001b[0m \u001b[0;32mis\u001b[0m \u001b[0;32mNone\u001b[0m\u001b[0;34m:\u001b[0m\u001b[0;34m\u001b[0m\u001b[0;34m\u001b[0m\u001b[0m\n",
            "\u001b[0;32m/usr/local/lib/python3.6/dist-packages/matplotlib/image.py\u001b[0m in \u001b[0;36mset_data\u001b[0;34m(self, A)\u001b[0m\n\u001b[1;32m    632\u001b[0m         if (self._A.dtype != np.uint8 and\n\u001b[1;32m    633\u001b[0m                 not np.can_cast(self._A.dtype, float, \"same_kind\")):\n\u001b[0;32m--> 634\u001b[0;31m             \u001b[0;32mraise\u001b[0m \u001b[0mTypeError\u001b[0m\u001b[0;34m(\u001b[0m\u001b[0;34m\"Image data cannot be converted to float\"\u001b[0m\u001b[0;34m)\u001b[0m\u001b[0;34m\u001b[0m\u001b[0;34m\u001b[0m\u001b[0m\n\u001b[0m\u001b[1;32m    635\u001b[0m \u001b[0;34m\u001b[0m\u001b[0m\n\u001b[1;32m    636\u001b[0m         if not (self._A.ndim == 2\n",
            "\u001b[0;31mTypeError\u001b[0m: Image data cannot be converted to float"
          ]
        },
        {
          "output_type": "display_data",
          "data": {
            "image/png": "[encoded data removed]",
            "text/plain": [
              "<Figure size 432x288 with 1 Axes>"
            ]
          },
          "metadata": {
            "tags": []
          }
        }
      ]
    },
    {
      "cell_type": "markdown",
      "metadata": {
        "id": "hLun73-NUDOo",
        "colab_type": "text"
      },
      "source": [
        ""
      ]
    },
    {
      "cell_type": "code",
      "metadata": {
        "id": "4hYinwkEUCtn",
        "colab_type": "code",
        "colab": {}
      },
      "source": [
        ""
      ],
      "execution_count": 0,
      "outputs": []
    },
    {
      "cell_type": "code",
      "metadata": {
        "id": "GvV3xMSyNy_h",
        "colab_type": "code",
        "colab": {}
      },
      "source": [
        "\n",
        "for ima in a:\n",
        "    plt.figure()\n",
        "    plt.imshow(ima)"
      ],
      "execution_count": 0,
      "outputs": []
    },
    {
      "cell_type": "code",
      "metadata": {
        "id": "4xvpp8oJewud",
        "colab_type": "code",
        "outputId": "bdf883b5-78ee-4a0f-b048-716fc1699716",
        "colab": {
          "base_uri": "https://localhost:8080/",
          "height": 340
        }
      },
      "source": [
        "%matplotlib inline\n",
        "from matplotlib import pyplot as plt\n",
        "from PIL import Image\n",
        "import numpy\n",
        "from scipy.signal import convolve2d\n",
        "import cv2\n",
        "\n",
        "kernel = [[0.1,0.1,0.1],\n",
        "          [0.1,0.1,0.1],\n",
        "          [0.1,0.1,0.1]]\n",
        "\n",
        "imgfile = 'puppy.jpg'\n",
        "pixelSize = 10\n",
        "def drawImage(channel=None):\n",
        "  img = Image.open(imgfile)\n",
        "  red,green,blue =  img.split()\n",
        "  if channel=='grey':\n",
        "    img = Image.open(imgfile).convert('LA')\n",
        "  elif channel == 'red':\n",
        "    img =  red\n",
        "  elif channel == 'green':\n",
        "    img= green\n",
        "  elif channel == 'blue':\n",
        "    img= blue\n",
        "  elif channel == 'None':\n",
        "    pass\n",
        "\n",
        "  image = img.resize((img.size[0]//pixelSize, img.size[1]//pixelSize), Image.NEAREST)\n",
        "  print(image.size)\n",
        "#   image =  img.convert('LA')\n",
        "  plt.imshow(image)\n",
        "  print(image.size)\n",
        "  \n",
        "drawImage('red')\n"
      ],
      "execution_count": 0,
      "outputs": [
        {
          "output_type": "error",
          "ename": "FileNotFoundError",
          "evalue": "ignored",
          "traceback": [
            "\u001b[0;31m---------------------------------------------------------------------------\u001b[0m",
            "\u001b[0;31mFileNotFoundError\u001b[0m                         Traceback (most recent call last)",
            "\u001b[0;32m<ipython-input-1-c55e03ed9323>\u001b[0m in \u001b[0;36m<module>\u001b[0;34m()\u001b[0m\n\u001b[1;32m     32\u001b[0m   \u001b[0mprint\u001b[0m\u001b[0;34m(\u001b[0m\u001b[0mimage\u001b[0m\u001b[0;34m.\u001b[0m\u001b[0msize\u001b[0m\u001b[0;34m)\u001b[0m\u001b[0;34m\u001b[0m\u001b[0;34m\u001b[0m\u001b[0m\n\u001b[1;32m     33\u001b[0m \u001b[0;34m\u001b[0m\u001b[0m\n\u001b[0;32m---> 34\u001b[0;31m \u001b[0mdrawImage\u001b[0m\u001b[0;34m(\u001b[0m\u001b[0;34m'red'\u001b[0m\u001b[0;34m)\u001b[0m\u001b[0;34m\u001b[0m\u001b[0;34m\u001b[0m\u001b[0m\n\u001b[0m",
            "\u001b[0;32m<ipython-input-1-c55e03ed9323>\u001b[0m in \u001b[0;36mdrawImage\u001b[0;34m(channel)\u001b[0m\n\u001b[1;32m     13\u001b[0m \u001b[0mpixelSize\u001b[0m \u001b[0;34m=\u001b[0m \u001b[0;36m10\u001b[0m\u001b[0;34m\u001b[0m\u001b[0;34m\u001b[0m\u001b[0m\n\u001b[1;32m     14\u001b[0m \u001b[0;32mdef\u001b[0m \u001b[0mdrawImage\u001b[0m\u001b[0;34m(\u001b[0m\u001b[0mchannel\u001b[0m\u001b[0;34m=\u001b[0m\u001b[0;32mNone\u001b[0m\u001b[0;34m)\u001b[0m\u001b[0;34m:\u001b[0m\u001b[0;34m\u001b[0m\u001b[0;34m\u001b[0m\u001b[0m\n\u001b[0;32m---> 15\u001b[0;31m   \u001b[0mimg\u001b[0m \u001b[0;34m=\u001b[0m \u001b[0mImage\u001b[0m\u001b[0;34m.\u001b[0m\u001b[0mopen\u001b[0m\u001b[0;34m(\u001b[0m\u001b[0mimgfile\u001b[0m\u001b[0;34m)\u001b[0m\u001b[0;34m\u001b[0m\u001b[0;34m\u001b[0m\u001b[0m\n\u001b[0m\u001b[1;32m     16\u001b[0m   \u001b[0mred\u001b[0m\u001b[0;34m,\u001b[0m\u001b[0mgreen\u001b[0m\u001b[0;34m,\u001b[0m\u001b[0mblue\u001b[0m \u001b[0;34m=\u001b[0m  \u001b[0mimg\u001b[0m\u001b[0;34m.\u001b[0m\u001b[0msplit\u001b[0m\u001b[0;34m(\u001b[0m\u001b[0;34m)\u001b[0m\u001b[0;34m\u001b[0m\u001b[0;34m\u001b[0m\u001b[0m\n\u001b[1;32m     17\u001b[0m   \u001b[0;32mif\u001b[0m \u001b[0mchannel\u001b[0m\u001b[0;34m==\u001b[0m\u001b[0;34m'grey'\u001b[0m\u001b[0;34m:\u001b[0m\u001b[0;34m\u001b[0m\u001b[0;34m\u001b[0m\u001b[0m\n",
            "\u001b[0;32m/usr/local/lib/python3.6/dist-packages/PIL/Image.py\u001b[0m in \u001b[0;36mopen\u001b[0;34m(fp, mode)\u001b[0m\n\u001b[1;32m   2528\u001b[0m \u001b[0;34m\u001b[0m\u001b[0m\n\u001b[1;32m   2529\u001b[0m     \u001b[0;32mif\u001b[0m \u001b[0mfilename\u001b[0m\u001b[0;34m:\u001b[0m\u001b[0;34m\u001b[0m\u001b[0;34m\u001b[0m\u001b[0m\n\u001b[0;32m-> 2530\u001b[0;31m         \u001b[0mfp\u001b[0m \u001b[0;34m=\u001b[0m \u001b[0mbuiltins\u001b[0m\u001b[0;34m.\u001b[0m\u001b[0mopen\u001b[0m\u001b[0;34m(\u001b[0m\u001b[0mfilename\u001b[0m\u001b[0;34m,\u001b[0m \u001b[0;34m\"rb\"\u001b[0m\u001b[0;34m)\u001b[0m\u001b[0;34m\u001b[0m\u001b[0;34m\u001b[0m\u001b[0m\n\u001b[0m\u001b[1;32m   2531\u001b[0m         \u001b[0mexclusive_fp\u001b[0m \u001b[0;34m=\u001b[0m \u001b[0;32mTrue\u001b[0m\u001b[0;34m\u001b[0m\u001b[0;34m\u001b[0m\u001b[0m\n\u001b[1;32m   2532\u001b[0m \u001b[0;34m\u001b[0m\u001b[0m\n",
            "\u001b[0;31mFileNotFoundError\u001b[0m: [Errno 2] No such file or directory: 'puppy.jpg'"
          ]
        }
      ]
    },
    {
      "cell_type": "code",
      "metadata": {
        "id": "KXG8vOPnT4ZM",
        "colab_type": "code",
        "outputId": "b7d31637-9cb9-40b1-b45a-10974df59eeb",
        "colab": {
          "base_uri": "https://localhost:8080/",
          "height": 303
        }
      },
      "source": [
        "%matplotlib inline\n",
        "im = Image.open(imgfile)\n",
        "print(im.size)\n",
        "plt.imshow(im)\n"
      ],
      "execution_count": 0,
      "outputs": [
        {
          "output_type": "stream",
          "text": [
            "(506, 640)\n"
          ],
          "name": "stdout"
        },
        {
          "output_type": "execute_result",
          "data": {
            "text/plain": [
              "<matplotlib.image.AxesImage at 0x7f1a1c32b438>"
            ]
          },
          "metadata": {
            "tags": []
          },
          "execution_count": 31
        },
        {
          "output_type": "display_data",
          "data": {
            "image/png": "[encoded data removed]",
            "text/plain": [
              "<Figure size 432x288 with 1 Axes>"
            ]
          },
          "metadata": {
            "tags": []
          }
        }
      ]
    },
    {
      "cell_type": "markdown",
      "metadata": {
        "id": "-R3suwtiY-Lm",
        "colab_type": "text"
      },
      "source": [
        "## Building a Convolutional neural network\n",
        "\n",
        "See all experiment visualization and log at \n",
        "\n",
        "https://app.wandb.ai/h-sandipan05/cnn-mnist-classification?workspace=user-h-sandipan05\n",
        "\n",
        "\n",
        "\n"
      ]
    },
    {
      "cell_type": "code",
      "metadata": {
        "id": "-mBajsMoq4vg",
        "colab_type": "code",
        "outputId": "58e1a2d2-c41d-4083-9dd8-970023389556",
        "colab": {
          "base_uri": "https://localhost:8080/",
          "height": 85
        }
      },
      "source": [
        "!wandb login"
      ],
      "execution_count": 0,
      "outputs": [
        {
          "output_type": "stream",
          "text": [
            "You can find your API keys in your browser here: https://app.wandb.ai/authorize\n",
            "Paste an API key from your profile: a94f6a1def208315550f8c5f4d32f6a31dbf140a\n",
            "\u001b[34m\u001b[1mwandb\u001b[0m: Appending key for api.wandb.ai to your netrc file: /root/.netrc\n",
            "\u001b[32mSuccessfully logged in to Weights & Biases!\u001b[0m\n"
          ],
          "name": "stdout"
        }
      ]
    },
    {
      "cell_type": "code",
      "metadata": {
        "id": "1W5X7z3Zbr_-",
        "colab_type": "code",
        "outputId": "03ba656e-6bbf-4735-d6ee-020d245db5c9",
        "colab": {
          "base_uri": "https://localhost:8080/",
          "height": 374
        }
      },
      "source": [
        "\n",
        "from keras.datasets import mnist\n",
        "from keras.models import Sequential\n",
        "from keras.layers import Conv2D, MaxPooling2D, Dropout, Dense, Flatten\n",
        "from keras.utils import np_utils\n",
        "from wandb.keras import WandbCallback\n",
        "import wandb\n",
        "\n",
        "run = wandb.init(project=\"cnn-mnist-classification\",sync_tensorboard=True)\n",
        "config = run.config\n",
        "config.img_width = 28\n",
        "config.img_height = 28\n",
        "config.first_layer_conv_width = 3\n",
        "config.first_layer_conv_height = 3\n",
        "config.dense_layer_size = 100\n",
        "config.epochs = 10\n",
        "\n",
        "(X_train, y_train), (X_test, y_test) = mnist.load_data()\n",
        "\n",
        "X_train = X_train.astype('float32')\n",
        "X_train /= 255.\n",
        "X_test = X_test.astype('float32')\n",
        "X_test /= 255.\n",
        "\n",
        "#adding extra dimension and we dont have color dimension\n",
        "#reshape input data\n",
        "X_train = X_train.reshape(X_train.shape[0], config.img_width, config.img_height, 1)\n",
        "X_test = X_test.reshape(X_test.shape[0], config.img_width, config.img_height, 1)\n",
        "\n",
        "# one hot encode outputs\n",
        "y_train = np_utils.to_categorical(y_train)\n",
        "y_test = np_utils.to_categorical(y_test)\n",
        "num_classes = y_test.shape[1]\n",
        "labels=range(10)\n",
        "\n",
        "# build model\n",
        "model = Sequential()\n",
        "model.add(Conv2D(32,\n",
        "    (config.first_layer_conv_width, config.first_layer_conv_height),\n",
        "    input_shape=(28, 28,1),\n",
        "    activation='relu'))\n",
        "model.add(MaxPooling2D(pool_size=(2, 2)))\n",
        "model.add(Flatten())\n",
        "model.add(Dense(config.dense_layer_size, activation='relu'))\n",
        "model.add(Dense(num_classes, activation='softmax'))\n",
        "\n",
        "model.compile(loss='categorical_crossentropy', optimizer='adam',\n",
        "                metrics=['accuracy'])\n",
        "\n",
        "model.summary()\n",
        "\n",
        "\n",
        "print(\"training data\", X_train.shape[0])"
      ],
      "execution_count": 0,
      "outputs": [
        {
          "output_type": "display_data",
          "data": {
            "text/html": [
              "\n",
              "        Notebook configured with <a href=\"https://wandb.com\" target=\"_blank\">W&B</a>. You can <a href=\"https://app.wandb.ai/h-sandipan05/cnn-mnist-classification/runs/jgzd9v65?apiKey=a94f6a1def208315550f8c5f4d32f6a31dbf140a\" target=\"_blank\">open</a> the run page, or call <code>%%wandb</code>\n",
              "        in a cell containing your training loop to display live results.  Learn more in our <a href=\"https://docs.wandb.com/docs/integrations/jupyter.html\" target=\"_blank\">docs</a>.\n",
              "    "
            ],
            "text/plain": [
              "<IPython.core.display.HTML object>"
            ]
          },
          "metadata": {
            "tags": []
          }
        },
        {
          "output_type": "stream",
          "text": [
            "Model: \"sequential_3\"\n",
            "_________________________________________________________________\n",
            "Layer (type)                 Output Shape              Param #   \n",
            "=================================================================\n",
            "conv2d_3 (Conv2D)            (None, 26, 26, 32)        320       \n",
            "_________________________________________________________________\n",
            "max_pooling2d_3 (MaxPooling2 (None, 13, 13, 32)        0         \n",
            "_________________________________________________________________\n",
            "flatten_3 (Flatten)          (None, 5408)              0         \n",
            "_________________________________________________________________\n",
            "dense_5 (Dense)              (None, 100)               540900    \n",
            "_________________________________________________________________\n",
            "dense_6 (Dense)              (None, 10)                1010      \n",
            "=================================================================\n",
            "Total params: 542,230\n",
            "Trainable params: 542,230\n",
            "Non-trainable params: 0\n",
            "_________________________________________________________________\n",
            "training data 60000\n"
          ],
          "name": "stdout"
        }
      ]
    },
    {
      "cell_type": "code",
      "metadata": {
        "id": "uC3XzxGmq0nx",
        "colab_type": "code",
        "outputId": "5185ce43-dfdd-41bf-fbd0-c944adac716c",
        "colab": {
          "base_uri": "https://localhost:8080/",
          "height": 954
        }
      },
      "source": [
        "%%wandb\n",
        "model.fit(X_train, y_train, validation_data=(X_test, y_test),\n",
        "        epochs=config.epochs,\n",
        "        callbacks=[WandbCallback(data_type=\"image\")])"
      ],
      "execution_count": 0,
      "outputs": [
        {
          "output_type": "display_data",
          "data": {
            "text/html": [
              "<iframe src=\"https://app.wandb.ai/h-sandipan05/cnn-mnist-classification/runs/jgzd9v65?apiKey=a94f6a1def208315550f8c5f4d32f6a31dbf140a?jupyter=true&state=paused\" style=\"border:none;width:100%;height:420px\">\n",
              "        </iframe>"
            ],
            "text/plain": [
              "<wandb.jupyter.Run at 0x7fe3714b7400>"
            ]
          },
          "metadata": {
            "tags": []
          }
        },
        {
          "output_type": "stream",
          "text": [
            "W0831 12:46:21.193512 140616434214784 deprecation.py:323] From /usr/local/lib/python3.6/dist-packages/tensorflow/python/ops/math_grad.py:1250: add_dispatch_support.<locals>.wrapper (from tensorflow.python.ops.array_ops) is deprecated and will be removed in a future version.\n",
            "Instructions for updating:\n",
            "Use tf.where in 2.0, which has the same broadcast rule as np.where\n",
            "W0831 12:46:21.244383 140616434214784 deprecation_wrapper.py:119] From /usr/local/lib/python3.6/dist-packages/keras/backend/tensorflow_backend.py:1033: The name tf.assign_add is deprecated. Please use tf.compat.v1.assign_add instead.\n",
            "\n"
          ],
          "name": "stderr"
        },
        {
          "output_type": "stream",
          "text": [
            "Train on 60000 samples, validate on 10000 samples\n",
            "Epoch 1/10\n",
            "60000/60000 [==============================] - 15s 257us/step - loss: 0.1522 - acc: 0.9542 - val_loss: 0.0614 - val_acc: 0.9801\n"
          ],
          "name": "stdout"
        },
        {
          "output_type": "stream",
          "text": [
            "wandb: WARNING wandb.log called without a step keyword argument.  Pass the same step that tensorboard is using to avoid data loss see:\n",
            "wandb: WARNING https://docs.wandb.com/docs/integrations/tensorboard.html#custom-metrics\n"
          ],
          "name": "stderr"
        },
        {
          "output_type": "stream",
          "text": [
            "Epoch 2/10\n",
            "60000/60000 [==============================] - 8s 129us/step - loss: 0.0534 - acc: 0.9837 - val_loss: 0.0478 - val_acc: 0.9845\n",
            "Epoch 3/10\n",
            "60000/60000 [==============================] - 8s 127us/step - loss: 0.0348 - acc: 0.9887 - val_loss: 0.0503 - val_acc: 0.9831\n",
            "Epoch 4/10\n",
            "60000/60000 [==============================] - 8s 126us/step - loss: 0.0231 - acc: 0.9927 - val_loss: 0.0442 - val_acc: 0.9860\n",
            "Epoch 5/10\n",
            "60000/60000 [==============================] - 8s 127us/step - loss: 0.0162 - acc: 0.9950 - val_loss: 0.0388 - val_acc: 0.9886\n",
            "Epoch 6/10\n",
            "60000/60000 [==============================] - 8s 126us/step - loss: 0.0105 - acc: 0.9967 - val_loss: 0.0401 - val_acc: 0.9881\n",
            "Epoch 7/10\n",
            "60000/60000 [==============================] - 8s 129us/step - loss: 0.0088 - acc: 0.9970 - val_loss: 0.0485 - val_acc: 0.9861\n",
            "Epoch 8/10\n",
            "60000/60000 [==============================] - 8s 126us/step - loss: 0.0067 - acc: 0.9980 - val_loss: 0.0543 - val_acc: 0.9853\n",
            "Epoch 9/10\n",
            "60000/60000 [==============================] - 8s 126us/step - loss: 0.0047 - acc: 0.9987 - val_loss: 0.0524 - val_acc: 0.9875\n",
            "Epoch 10/10\n",
            "60000/60000 [==============================] - 8s 127us/step - loss: 0.0047 - acc: 0.9986 - val_loss: 0.0560 - val_acc: 0.9867\n"
          ],
          "name": "stdout"
        },
        {
          "output_type": "execute_result",
          "data": {
            "text/plain": [
              "<keras.callbacks.History at 0x7fe36e36c6d8>"
            ]
          },
          "metadata": {
            "tags": []
          },
          "execution_count": 9
        }
      ]
    },
    {
      "cell_type": "markdown",
      "metadata": {
        "id": "YKwZIr76w6gb",
        "colab_type": "text"
      },
      "source": [
        "See detailed visualization at "
      ]
    },
    {
      "cell_type": "markdown",
      "metadata": {
        "id": "Jr5QNa_du5ux",
        "colab_type": "text"
      },
      "source": [
        "### lets try adding droupout\n",
        "\n",
        "We have 60000 training data and 542,230 trainable parameters . Dropout will help to reduce overfitting \n",
        "\n",
        "\n",
        "Visualization at [this](https://app.wandb.ai/h-sandipan05/cnn-mnist-classification/runs/kpf0q1u9?workspace=user-h-sandipan05)"
      ]
    },
    {
      "cell_type": "code",
      "metadata": {
        "id": "mq8b3e5ktPUX",
        "colab_type": "code",
        "outputId": "18cd411b-798e-4cae-a050-44bb5e931f8d",
        "colab": {
          "base_uri": "https://localhost:8080/",
          "height": 425
        }
      },
      "source": [
        "# build model with dropout\n",
        "\n",
        "run = wandb.init(project=\"cnn-mnist-classification\",sync_tensorboard=True)\n",
        "config = run.config\n",
        "config.img_width = 28\n",
        "config.img_height = 28\n",
        "config.first_layer_conv_width = 3\n",
        "config.first_layer_conv_height = 3\n",
        "config.dense_layer_size = 100\n",
        "config.epochs = 10\n",
        "model = Sequential()\n",
        "model.add(Conv2D(32,\n",
        "    (config.first_layer_conv_width, config.first_layer_conv_height),\n",
        "    input_shape=(28, 28,1),\n",
        "    activation='relu'))\n",
        "model.add(MaxPooling2D(pool_size=(2, 2)))\n",
        "model.add(Flatten())\n",
        "model.add(Dropout(0.4))\n",
        "model.add(Dense(config.dense_layer_size, activation='relu'))\n",
        "model.add(Dropout(0.4))\n",
        "model.add(Dense(num_classes, activation='softmax'))\n",
        "\n",
        "model.compile(loss='categorical_crossentropy', optimizer='adam',\n",
        "                metrics=['accuracy'])\n",
        "\n",
        "model.summary()"
      ],
      "execution_count": 0,
      "outputs": [
        {
          "output_type": "display_data",
          "data": {
            "text/html": [
              "\n",
              "        Notebook configured with <a href=\"https://wandb.com\" target=\"_blank\">W&B</a>. You can <a href=\"https://app.wandb.ai/h-sandipan05/cnn-mnist-classification/runs/kpf0q1u9?apiKey=a94f6a1def208315550f8c5f4d32f6a31dbf140a\" target=\"_blank\">open</a> the run page, or call <code>%%wandb</code>\n",
              "        in a cell containing your training loop to display live results.  Learn more in our <a href=\"https://docs.wandb.com/docs/integrations/jupyter.html\" target=\"_blank\">docs</a>.\n",
              "    "
            ],
            "text/plain": [
              "<IPython.core.display.HTML object>"
            ]
          },
          "metadata": {
            "tags": []
          }
        },
        {
          "output_type": "stream",
          "text": [
            "Model: \"sequential_5\"\n",
            "_________________________________________________________________\n",
            "Layer (type)                 Output Shape              Param #   \n",
            "=================================================================\n",
            "conv2d_5 (Conv2D)            (None, 26, 26, 32)        320       \n",
            "_________________________________________________________________\n",
            "max_pooling2d_5 (MaxPooling2 (None, 13, 13, 32)        0         \n",
            "_________________________________________________________________\n",
            "flatten_5 (Flatten)          (None, 5408)              0         \n",
            "_________________________________________________________________\n",
            "dropout_3 (Dropout)          (None, 5408)              0         \n",
            "_________________________________________________________________\n",
            "dense_9 (Dense)              (None, 100)               540900    \n",
            "_________________________________________________________________\n",
            "dropout_4 (Dropout)          (None, 100)               0         \n",
            "_________________________________________________________________\n",
            "dense_10 (Dense)             (None, 10)                1010      \n",
            "=================================================================\n",
            "Total params: 542,230\n",
            "Trainable params: 542,230\n",
            "Non-trainable params: 0\n",
            "_________________________________________________________________\n"
          ],
          "name": "stdout"
        }
      ]
    },
    {
      "cell_type": "code",
      "metadata": {
        "id": "9q0Qkr-lwosS",
        "colab_type": "code",
        "outputId": "4c6d1360-15fe-4e93-b20a-25b1325e3fbb",
        "colab": {
          "base_uri": "https://localhost:8080/",
          "height": 903
        }
      },
      "source": [
        "## lets train now \n",
        "%%wandb\n",
        "\n",
        "model.fit(X_train, y_train, validation_data=(X_test, y_test),\n",
        "        epochs=config.epochs,\n",
        "        callbacks=[WandbCallback(data_type=\"image\")])"
      ],
      "execution_count": 0,
      "outputs": [
        {
          "output_type": "display_data",
          "data": {
            "text/html": [
              "<iframe src=\"https://app.wandb.ai/h-sandipan05/cnn-mnist-classification/runs/kpf0q1u9?apiKey=a94f6a1def208315550f8c5f4d32f6a31dbf140a?jupyter=true&state=paused\" style=\"border:none;width:100%;height:420px\">\n",
              "        </iframe>"
            ],
            "text/plain": [
              "<wandb.jupyter.Run at 0x7fe37212d588>"
            ]
          },
          "metadata": {
            "tags": []
          }
        },
        {
          "output_type": "stream",
          "text": [
            "Train on 60000 samples, validate on 10000 samples\n",
            "Epoch 1/10\n",
            " 1120/60000 [..............................] - ETA: 1:05 - loss: 1.5575 - acc: 0.5009"
          ],
          "name": "stdout"
        },
        {
          "output_type": "stream",
          "text": [
            "/usr/local/lib/python3.6/dist-packages/keras/callbacks.py:95: RuntimeWarning: Method (on_train_batch_end) is slow compared to the batch update (0.567686). Check your callbacks.\n",
            "  % (hook_name, delta_t_median), RuntimeWarning)\n",
            "/usr/local/lib/python3.6/dist-packages/keras/callbacks.py:95: RuntimeWarning: Method (on_train_batch_end) is slow compared to the batch update (0.284497). Check your callbacks.\n",
            "  % (hook_name, delta_t_median), RuntimeWarning)\n"
          ],
          "name": "stderr"
        },
        {
          "output_type": "stream",
          "text": [
            "60000/60000 [==============================] - 10s 161us/step - loss: 0.2641 - acc: 0.9193 - val_loss: 0.0786 - val_acc: 0.9749\n",
            "Epoch 2/10\n",
            "60000/60000 [==============================] - 9s 142us/step - loss: 0.1229 - acc: 0.9627 - val_loss: 0.0582 - val_acc: 0.9823\n",
            "Epoch 3/10\n",
            "60000/60000 [==============================] - 9s 142us/step - loss: 0.0957 - acc: 0.9704 - val_loss: 0.0478 - val_acc: 0.9844\n",
            "Epoch 4/10\n",
            "60000/60000 [==============================] - 8s 141us/step - loss: 0.0810 - acc: 0.9751 - val_loss: 0.0423 - val_acc: 0.9857\n",
            "Epoch 5/10\n",
            "60000/60000 [==============================] - 8s 140us/step - loss: 0.0683 - acc: 0.9782 - val_loss: 0.0453 - val_acc: 0.9861\n",
            "Epoch 6/10\n",
            "60000/60000 [==============================] - 8s 141us/step - loss: 0.0610 - acc: 0.9801 - val_loss: 0.0416 - val_acc: 0.9858\n",
            "Epoch 7/10\n",
            "60000/60000 [==============================] - 8s 141us/step - loss: 0.0565 - acc: 0.9822 - val_loss: 0.0437 - val_acc: 0.9862\n",
            "Epoch 8/10\n",
            "60000/60000 [==============================] - 8s 141us/step - loss: 0.0523 - acc: 0.9834 - val_loss: 0.0392 - val_acc: 0.9884\n",
            "Epoch 9/10\n",
            "60000/60000 [==============================] - 9s 142us/step - loss: 0.0484 - acc: 0.9844 - val_loss: 0.0389 - val_acc: 0.9881\n",
            "Epoch 10/10\n",
            "60000/60000 [==============================] - 9s 142us/step - loss: 0.0456 - acc: 0.9852 - val_loss: 0.0381 - val_acc: 0.9886\n"
          ],
          "name": "stdout"
        },
        {
          "output_type": "execute_result",
          "data": {
            "text/plain": [
              "<keras.callbacks.History at 0x7fe3729dbba8>"
            ]
          },
          "metadata": {
            "tags": []
          },
          "execution_count": 13
        }
      ]
    },
    {
      "cell_type": "markdown",
      "metadata": {
        "id": "785KOmZDygkx",
        "colab_type": "text"
      },
      "source": [
        "### let add more convolutional layers and see what happens\n",
        "\n",
        "\n",
        "Detailed Visualizations are here"
      ]
    },
    {
      "cell_type": "markdown",
      "metadata": {
        "id": "Qqo-OlLkt2uy",
        "colab_type": "text"
      },
      "source": [
        "I am trying out new ways to get loss plot other than wandb. One of the simple tool is livelossplot"
      ]
    },
    {
      "cell_type": "code",
      "metadata": {
        "id": "_TcLD_-I6BVa",
        "colab_type": "code",
        "colab": {
          "base_uri": "https://localhost:8080/",
          "height": 700
        },
        "outputId": "708ad7c8-664e-47a9-b055-9125d47aa898"
      },
      "source": [
        "!pip install  livelossplot"
      ],
      "execution_count": 98,
      "outputs": [
        {
          "output_type": "stream",
          "text": [
            "Requirement already satisfied: livelossplot in /usr/local/lib/python3.6/dist-packages (0.4.1)\n",
            "Requirement already satisfied: matplotlib in /usr/local/lib/python3.6/dist-packages (from livelossplot) (3.0.3)\n",
            "Requirement already satisfied: notebook in /usr/local/lib/python3.6/dist-packages (from livelossplot) (5.2.2)\n",
            "Requirement already satisfied: cycler>=0.10 in /usr/local/lib/python3.6/dist-packages (from matplotlib->livelossplot) (0.10.0)\n",
            "Requirement already satisfied: python-dateutil>=2.1 in /usr/local/lib/python3.6/dist-packages (from matplotlib->livelossplot) (2.8.0)\n",
            "Requirement already satisfied: kiwisolver>=1.0.1 in /usr/local/lib/python3.6/dist-packages (from matplotlib->livelossplot) (1.1.0)\n",
            "Requirement already satisfied: numpy>=1.10.0 in /usr/local/lib/python3.6/dist-packages (from matplotlib->livelossplot) (1.16.4)\n",
            "Requirement already satisfied: pyparsing!=2.0.4,!=2.1.2,!=2.1.6,>=2.0.1 in /usr/local/lib/python3.6/dist-packages (from matplotlib->livelossplot) (2.4.2)\n",
            "Requirement already satisfied: tornado>=4 in /usr/local/lib/python3.6/dist-packages (from notebook->livelossplot) (4.5.3)\n",
            "Requirement already satisfied: ipykernel in /usr/local/lib/python3.6/dist-packages (from notebook->livelossplot) (4.6.1)\n",
            "Requirement already satisfied: nbformat in /usr/local/lib/python3.6/dist-packages (from notebook->livelossplot) (4.4.0)\n",
            "Requirement already satisfied: jupyter-client in /usr/local/lib/python3.6/dist-packages (from notebook->livelossplot) (5.3.1)\n",
            "Requirement already satisfied: nbconvert in /usr/local/lib/python3.6/dist-packages (from notebook->livelossplot) (5.6.0)\n",
            "Requirement already satisfied: terminado>=0.3.3; sys_platform != \"win32\" in /usr/local/lib/python3.6/dist-packages (from notebook->livelossplot) (0.8.2)\n",
            "Requirement already satisfied: jinja2 in /usr/local/lib/python3.6/dist-packages (from notebook->livelossplot) (2.10.1)\n",
            "Requirement already satisfied: jupyter-core in /usr/local/lib/python3.6/dist-packages (from notebook->livelossplot) (4.5.0)\n",
            "Requirement already satisfied: traitlets>=4.2.1 in /usr/local/lib/python3.6/dist-packages (from notebook->livelossplot) (4.3.2)\n",
            "Requirement already satisfied: ipython-genutils in /usr/local/lib/python3.6/dist-packages (from notebook->livelossplot) (0.2.0)\n",
            "Requirement already satisfied: six in /usr/local/lib/python3.6/dist-packages (from cycler>=0.10->matplotlib->livelossplot) (1.12.0)\n",
            "Requirement already satisfied: setuptools in /usr/local/lib/python3.6/dist-packages (from kiwisolver>=1.0.1->matplotlib->livelossplot) (41.2.0)\n",
            "Requirement already satisfied: ipython>=4.0.0 in /usr/local/lib/python3.6/dist-packages (from ipykernel->notebook->livelossplot) (5.5.0)\n",
            "Requirement already satisfied: jsonschema!=2.5.0,>=2.4 in /usr/local/lib/python3.6/dist-packages (from nbformat->notebook->livelossplot) (2.6.0)\n",
            "Requirement already satisfied: pyzmq>=13 in /usr/local/lib/python3.6/dist-packages (from jupyter-client->notebook->livelossplot) (17.0.0)\n",
            "Requirement already satisfied: bleach in /usr/local/lib/python3.6/dist-packages (from nbconvert->notebook->livelossplot) (3.1.0)\n",
            "Requirement already satisfied: pygments in /usr/local/lib/python3.6/dist-packages (from nbconvert->notebook->livelossplot) (2.1.3)\n",
            "Requirement already satisfied: pandocfilters>=1.4.1 in /usr/local/lib/python3.6/dist-packages (from nbconvert->notebook->livelossplot) (1.4.2)\n",
            "Requirement already satisfied: mistune<2,>=0.8.1 in /usr/local/lib/python3.6/dist-packages (from nbconvert->notebook->livelossplot) (0.8.4)\n",
            "Requirement already satisfied: defusedxml in /usr/local/lib/python3.6/dist-packages (from nbconvert->notebook->livelossplot) (0.6.0)\n",
            "Requirement already satisfied: testpath in /usr/local/lib/python3.6/dist-packages (from nbconvert->notebook->livelossplot) (0.4.2)\n",
            "Requirement already satisfied: entrypoints>=0.2.2 in /usr/local/lib/python3.6/dist-packages (from nbconvert->notebook->livelossplot) (0.3)\n",
            "Requirement already satisfied: ptyprocess; os_name != \"nt\" in /usr/local/lib/python3.6/dist-packages (from terminado>=0.3.3; sys_platform != \"win32\"->notebook->livelossplot) (0.6.0)\n",
            "Requirement already satisfied: MarkupSafe>=0.23 in /usr/local/lib/python3.6/dist-packages (from jinja2->notebook->livelossplot) (1.1.1)\n",
            "Requirement already satisfied: decorator in /usr/local/lib/python3.6/dist-packages (from traitlets>=4.2.1->notebook->livelossplot) (4.4.0)\n",
            "Requirement already satisfied: pexpect; sys_platform != \"win32\" in /usr/local/lib/python3.6/dist-packages (from ipython>=4.0.0->ipykernel->notebook->livelossplot) (4.7.0)\n",
            "Requirement already satisfied: pickleshare in /usr/local/lib/python3.6/dist-packages (from ipython>=4.0.0->ipykernel->notebook->livelossplot) (0.7.5)\n",
            "Requirement already satisfied: prompt-toolkit<2.0.0,>=1.0.4 in /usr/local/lib/python3.6/dist-packages (from ipython>=4.0.0->ipykernel->notebook->livelossplot) (1.0.16)\n",
            "Requirement already satisfied: simplegeneric>0.8 in /usr/local/lib/python3.6/dist-packages (from ipython>=4.0.0->ipykernel->notebook->livelossplot) (0.8.1)\n",
            "Requirement already satisfied: webencodings in /usr/local/lib/python3.6/dist-packages (from bleach->nbconvert->notebook->livelossplot) (0.5.1)\n",
            "Requirement already satisfied: wcwidth in /usr/local/lib/python3.6/dist-packages (from prompt-toolkit<2.0.0,>=1.0.4->ipython>=4.0.0->ipykernel->notebook->livelossplot) (0.1.7)\n"
          ],
          "name": "stdout"
        }
      ]
    },
    {
      "cell_type": "code",
      "metadata": {
        "id": "7AJshc1c6Mvu",
        "colab_type": "code",
        "colab": {}
      },
      "source": [
        "\n",
        "\n",
        "from livelossplot.keras import PlotLossesCallback\n"
      ],
      "execution_count": 0,
      "outputs": []
    },
    {
      "cell_type": "code",
      "metadata": {
        "id": "hO6JiEDpwwXp",
        "colab_type": "code",
        "colab": {
          "base_uri": "https://localhost:8080/",
          "height": 459
        },
        "outputId": "325b17ed-0b67-4526-a768-4b99ebe32c8e"
      },
      "source": [
        "# run = wandb.init(project=\"cnn-mnist-classification\",sync_tensorboard=True)\n",
        "# config = run.config\n",
        "\n",
        "from keras.datasets import mnist\n",
        "from keras.models import Sequential\n",
        "from keras.layers import Conv2D, MaxPooling2D, Dropout, Dense, Flatten\n",
        "from keras.utils import np_utils\n",
        "# from wandb.keras import WandbCallback\n",
        "# import wandb\n",
        "\n",
        "config.img_width = 28\n",
        "config.img_height = 28\n",
        "config.first_layer_conv_width = 3\n",
        "config.first_layer_conv_height = 3\n",
        "\n",
        "config.dense_layer_size = 100\n",
        "config.epochs = 10\n",
        "\n",
        "(X_train, y_train), (X_test, y_test) = mnist.load_data()\n",
        "\n",
        "X_train = X_train.astype('float32')\n",
        "X_train /= 255.\n",
        "X_test = X_test.astype('float32')\n",
        "X_test /= 255.\n",
        "\n",
        "#adding extra dimension and we dont have color dimension\n",
        "#reshape input data\n",
        "X_train = X_train.reshape(X_train.shape[0], config.img_width, config.img_height, 1)\n",
        "X_test = X_test.reshape(X_test.shape[0], config.img_width, config.img_height, 1)\n",
        "\n",
        "# one hot encode outputs\n",
        "y_train = np_utils.to_categorical(y_train)\n",
        "y_test = np_utils.to_categorical(y_test)\n",
        "num_classes = y_test.shape[1]\n",
        "labels=range(10)\n",
        "\n",
        "model = Sequential()\n",
        "model.add(Conv2D(64,\n",
        "    (config.first_layer_conv_width, config.first_layer_conv_height),\n",
        "    input_shape=(28, 28,1),\n",
        "    activation='relu'))   # kernel_size = 3 will also do\n",
        "model.add(MaxPooling2D(pool_size=(3, 3)))\n",
        "model.add(Conv2D(32,kernel_size = 3,activation='relu'))\n",
        "model.add(MaxPooling2D(pool_size=(3,3)))\n",
        "model.add(Flatten())\n",
        "model.add(Dropout(0.4))\n",
        "model.add(Dense(config.dense_layer_size, activation='relu'))\n",
        "model.add(Dropout(0.4))\n",
        "model.add(Dense(num_classes, activation='softmax'))\n",
        "\n",
        "model.compile(loss='categorical_crossentropy', optimizer='adam',\n",
        "                metrics=['accuracy'])\n",
        "\n",
        "model.summary()\n"
      ],
      "execution_count": 91,
      "outputs": [
        {
          "output_type": "stream",
          "text": [
            "Model: \"sequential_12\"\n",
            "_________________________________________________________________\n",
            "Layer (type)                 Output Shape              Param #   \n",
            "=================================================================\n",
            "conv2d_11 (Conv2D)           (None, 26, 26, 64)        640       \n",
            "_________________________________________________________________\n",
            "max_pooling2d_11 (MaxPooling (None, 8, 8, 64)          0         \n",
            "_________________________________________________________________\n",
            "conv2d_12 (Conv2D)           (None, 6, 6, 32)          18464     \n",
            "_________________________________________________________________\n",
            "max_pooling2d_12 (MaxPooling (None, 2, 2, 32)          0         \n",
            "_________________________________________________________________\n",
            "flatten_10 (Flatten)         (None, 128)               0         \n",
            "_________________________________________________________________\n",
            "dropout_12 (Dropout)         (None, 128)               0         \n",
            "_________________________________________________________________\n",
            "dense_25 (Dense)             (None, 100)               12900     \n",
            "_________________________________________________________________\n",
            "dropout_13 (Dropout)         (None, 100)               0         \n",
            "_________________________________________________________________\n",
            "dense_26 (Dense)             (None, 10)                1010      \n",
            "=================================================================\n",
            "Total params: 33,014\n",
            "Trainable params: 33,014\n",
            "Non-trainable params: 0\n",
            "_________________________________________________________________\n"
          ],
          "name": "stdout"
        }
      ]
    },
    {
      "cell_type": "code",
      "metadata": {
        "id": "dp371o9mw2Go",
        "colab_type": "code",
        "colab": {
          "base_uri": "https://localhost:8080/",
          "height": 462
        },
        "outputId": "4460834e-5b08-4e07-8872-7f88820ad06f"
      },
      "source": [
        "plot_loss = PlotLossesCallback()\n",
        "model.fit(X_train, y_train, validation_data=(X_test, y_test),\n",
        "        epochs=config.epochs,\n",
        "        callbacks=[plot_loss])"
      ],
      "execution_count": 92,
      "outputs": [
        {
          "output_type": "display_data",
          "data": {
            "image/png": "[encoded data removed]",
            "text/plain": [
              "<Figure size 864x576 with 2 Axes>"
            ]
          },
          "metadata": {
            "tags": []
          }
        },
        {
          "output_type": "stream",
          "text": [
            "Log-loss (cost function):\n",
            "training   (min:    0.091, max:    0.489, cur:    0.091)\n",
            "validation (min:    0.036, max:    0.078, cur:    0.039)\n",
            "\n",
            "Accuracy:\n",
            "training   (min:    0.840, max:    0.972, cur:    0.972)\n",
            "validation (min:    0.977, max:    0.990, cur:    0.988)\n"
          ],
          "name": "stdout"
        },
        {
          "output_type": "execute_result",
          "data": {
            "text/plain": [
              "<keras.callbacks.History at 0x7fe3494ccd30>"
            ]
          },
          "metadata": {
            "tags": []
          },
          "execution_count": 92
        }
      ]
    },
    {
      "cell_type": "code",
      "metadata": {
        "id": "4q8fsviD3gVB",
        "colab_type": "code",
        "colab": {
          "base_uri": "https://localhost:8080/",
          "height": 462
        },
        "outputId": "787ca1c3-7dae-4d1a-d765-1090cc4197e0"
      },
      "source": [
        "from keras.datasets import mnist\n",
        "from keras.models import Sequential\n",
        "from keras.layers import Conv2D, MaxPooling2D, Dropout, Dense, Flatten\n",
        "from keras.utils import np_utils\n",
        "from livelossplot.keras import PlotLossesCallback\n",
        "\n",
        "\n",
        "config.img_width = 28\n",
        "config.img_height = 28\n",
        "config.first_layer_conv_width = 3\n",
        "config.first_layer_conv_height = 3\n",
        "\n",
        "config.dense_layer_size = 100\n",
        "config.epochs = 10\n",
        "\n",
        "(X_train, y_train), (X_test, y_test) = mnist.load_data()\n",
        "#normalize\n",
        "X_train = X_train.astype('float32')\n",
        "X_train /= 255.\n",
        "X_test = X_test.astype('float32')\n",
        "X_test /= 255.\n",
        "\n",
        "#adding extra dimension and we dont have color dimension\n",
        "#reshape input data\n",
        "X_train = X_train.reshape(X_train.shape[0], config.img_width, config.img_height, 1)\n",
        "X_test = X_test.reshape(X_test.shape[0], config.img_width, config.img_height, 1)\n",
        "\n",
        "# one hot encode outputs\n",
        "y_train = np_utils.to_categorical(y_train)\n",
        "y_test = np_utils.to_categorical(y_test)\n",
        "num_classes = y_test.shape[1]\n",
        "labels=range(10)\n",
        "\n",
        "\n",
        "## another custom model changging layers\n",
        "def custom_model():\n",
        "\n",
        "  model = Sequential()\n",
        "  model.add(Conv2D(32,\n",
        "      (config.first_layer_conv_width, config.first_layer_conv_height),\n",
        "      input_shape=(28, 28,1),\n",
        "      activation='relu'))   # kernel_size = 3 will also do\n",
        "#   model.add(MaxPooling2D(pool_size=(2,2)))\n",
        "#   model.add(Conv2D(32,kernel_size = 3,activation='relu'))\n",
        "  model.add(MaxPooling2D(pool_size=(2,2)))\n",
        "  model.add(Flatten())\n",
        "  model.add(Dropout(0.4))\n",
        "  model.add(Dense(config.dense_layer_size, activation='relu'))\n",
        "  model.add(Dropout(0.4))\n",
        "  model.add(Dense(num_classes, activation='softmax'))\n",
        "\n",
        "  model.compile(loss='categorical_crossentropy', optimizer='adam',\n",
        "                  metrics=['accuracy'])\n",
        "\n",
        "  model.summary()\n",
        "  return model\n",
        "a= custom_model()\n",
        "plot_loss= PlotLossesCallback()\n",
        "a.fit(X_train, y_train, validation_data=(X_test, y_test),\n",
        "        epochs=config.epochs,\n",
        "        callbacks=[plot_loss])"
      ],
      "execution_count": 99,
      "outputs": [
        {
          "output_type": "display_data",
          "data": {
            "image/png": "[encoded data removed]",
            "text/plain": [
              "<Figure size 864x576 with 2 Axes>"
            ]
          },
          "metadata": {
            "tags": []
          }
        },
        {
          "output_type": "stream",
          "text": [
            "Log-loss (cost function):\n",
            "training   (min:    0.044, max:    0.251, cur:    0.044)\n",
            "validation (min:    0.035, max:    0.076, cur:    0.039)\n",
            "\n",
            "Accuracy:\n",
            "training   (min:    0.924, max:    0.986, cur:    0.986)\n",
            "validation (min:    0.977, max:    0.989, cur:    0.987)\n"
          ],
          "name": "stdout"
        },
        {
          "output_type": "execute_result",
          "data": {
            "text/plain": [
              "<keras.callbacks.History at 0x7fe2e3f45da0>"
            ]
          },
          "metadata": {
            "tags": []
          },
          "execution_count": 99
        }
      ]
    },
    {
      "cell_type": "code",
      "metadata": {
        "id": "0IBIIWTI46fS",
        "colab_type": "code",
        "colab": {}
      },
      "source": [
        ""
      ],
      "execution_count": 0,
      "outputs": []
    },
    {
      "cell_type": "markdown",
      "metadata": {
        "id": "PB18FPhhuMax",
        "colab_type": "text"
      },
      "source": [
        "I am trying out comet ml . Another library for logging and visualization. However this is not currently working. Feel free to skip it or debug."
      ]
    },
    {
      "cell_type": "code",
      "metadata": {
        "id": "BgDzfFG_UtpW",
        "colab_type": "code",
        "colab": {}
      },
      "source": [
        "from comet_ml import Experiment\n",
        "import keras\n",
        "import numpy as np\n",
        "from keras.datasets import mnist\n",
        "from keras.models import Sequential\n",
        "from keras.layers import Dense, Dropout\n",
        "from keras.callbacks import EarlyStopping\n",
        "from keras.preprocessing import image\n",
        "from keras.optimizers import RMSprop"
      ],
      "execution_count": 0,
      "outputs": []
    },
    {
      "cell_type": "code",
      "metadata": {
        "id": "9hu_aNghm6HB",
        "colab_type": "code",
        "outputId": "5c228d78-45e4-4076-b2cd-0a8cb3b3f753",
        "colab": {
          "base_uri": "https://localhost:8080/",
          "height": 34
        }
      },
      "source": [
        "%%writefile .env\n",
        "COMET_API_KEY=fgP3nkxhI7VLUqGVOTHKrwF9X"
      ],
      "execution_count": 0,
      "outputs": [
        {
          "output_type": "stream",
          "text": [
            "Overwriting .env\n"
          ],
          "name": "stdout"
        }
      ]
    },
    {
      "cell_type": "code",
      "metadata": {
        "id": "O__QkqhUpGdf",
        "colab_type": "code",
        "outputId": "67aece0b-91ab-46a7-8275-2790f6e9878c",
        "colab": {
          "base_uri": "https://localhost:8080/",
          "height": 530
        }
      },
      "source": [
        "from comet_ml import Experiment\n",
        "import tensorflow\n",
        "\n",
        "#create an experiment\n",
        "experiment = Experiment(project_name='mnist')\n",
        "import keras\n",
        "batch_size = 128\n",
        "\n",
        "experiment.log_parameter(\"batch_size\", 128)"
      ],
      "execution_count": 0,
      "outputs": [
        {
          "output_type": "error",
          "ename": "ImportError",
          "evalue": "ignored",
          "traceback": [
            "\u001b[0;31m---------------------------------------------------------------------------\u001b[0m",
            "\u001b[0;31mImportError\u001b[0m                               Traceback (most recent call last)",
            "\u001b[0;32m<ipython-input-83-ebd0b08c7189>\u001b[0m in \u001b[0;36m<module>\u001b[0;34m()\u001b[0m\n\u001b[1;32m      3\u001b[0m \u001b[0;34m\u001b[0m\u001b[0m\n\u001b[1;32m      4\u001b[0m \u001b[0;31m#create an experiment\u001b[0m\u001b[0;34m\u001b[0m\u001b[0;34m\u001b[0m\u001b[0;34m\u001b[0m\u001b[0m\n\u001b[0;32m----> 5\u001b[0;31m \u001b[0mexperiment\u001b[0m \u001b[0;34m=\u001b[0m \u001b[0mExperiment\u001b[0m\u001b[0;34m(\u001b[0m\u001b[0mproject_name\u001b[0m\u001b[0;34m=\u001b[0m\u001b[0;34m'mnist'\u001b[0m\u001b[0;34m)\u001b[0m\u001b[0;34m\u001b[0m\u001b[0;34m\u001b[0m\u001b[0m\n\u001b[0m\u001b[1;32m      6\u001b[0m \u001b[0;32mimport\u001b[0m \u001b[0mkeras\u001b[0m\u001b[0;34m\u001b[0m\u001b[0;34m\u001b[0m\u001b[0m\n\u001b[1;32m      7\u001b[0m \u001b[0mbatch_size\u001b[0m \u001b[0;34m=\u001b[0m \u001b[0;36m128\u001b[0m\u001b[0;34m\u001b[0m\u001b[0;34m\u001b[0m\u001b[0m\n",
            "\u001b[0;32m/usr/local/lib/python3.6/dist-packages/comet_ml/__init__.py\u001b[0m in \u001b[0;36m__init__\u001b[0;34m(self, api_key, project_name, workspace, log_code, log_graph, auto_param_logging, auto_metric_logging, parse_args, auto_output_logging, log_env_details, log_git_metadata, log_git_patch, disabled, log_env_gpu, log_env_host, display_summary)\u001b[0m\n\u001b[1;32m    192\u001b[0m             \u001b[0mlog_env_gpu\u001b[0m\u001b[0;34m=\u001b[0m\u001b[0mlog_env_gpu\u001b[0m\u001b[0;34m,\u001b[0m\u001b[0;34m\u001b[0m\u001b[0;34m\u001b[0m\u001b[0m\n\u001b[1;32m    193\u001b[0m             \u001b[0mlog_env_host\u001b[0m\u001b[0;34m=\u001b[0m\u001b[0mlog_env_host\u001b[0m\u001b[0;34m,\u001b[0m\u001b[0;34m\u001b[0m\u001b[0;34m\u001b[0m\u001b[0m\n\u001b[0;32m--> 194\u001b[0;31m             \u001b[0mdisplay_summary\u001b[0m\u001b[0;34m=\u001b[0m\u001b[0mdisplay_summary\u001b[0m\u001b[0;34m,\u001b[0m\u001b[0;34m\u001b[0m\u001b[0;34m\u001b[0m\u001b[0m\n\u001b[0m\u001b[1;32m    195\u001b[0m         )\n\u001b[1;32m    196\u001b[0m \u001b[0;34m\u001b[0m\u001b[0m\n",
            "\u001b[0;32m/usr/local/lib/python3.6/dist-packages/comet_ml/experiment.py\u001b[0m in \u001b[0;36m__init__\u001b[0;34m(self, project_name, workspace, log_code, log_graph, auto_param_logging, auto_metric_logging, parse_args, auto_output_logging, log_env_details, log_git_metadata, log_git_patch, disabled, log_env_gpu, log_env_host, display_summary)\u001b[0m\n\u001b[1;32m    237\u001b[0m                     \u001b[0mALREADY_IMPORTED_MODULES\u001b[0m\u001b[0;34m\u001b[0m\u001b[0;34m\u001b[0m\u001b[0m\n\u001b[1;32m    238\u001b[0m                 )\n\u001b[0;32m--> 239\u001b[0;31m                 \u001b[0;32mraise\u001b[0m \u001b[0mImportError\u001b[0m\u001b[0;34m(\u001b[0m\u001b[0mmsg\u001b[0m\u001b[0;34m)\u001b[0m\u001b[0;34m\u001b[0m\u001b[0;34m\u001b[0m\u001b[0m\n\u001b[0m\u001b[1;32m    240\u001b[0m \u001b[0;34m\u001b[0m\u001b[0m\n\u001b[1;32m    241\u001b[0m         \u001b[0;31m# Generate a unique identifier for this experiment.\u001b[0m\u001b[0;34m\u001b[0m\u001b[0;34m\u001b[0m\u001b[0;34m\u001b[0m\u001b[0m\n",
            "\u001b[0;31mImportError\u001b[0m: You must import Comet before these modules: keras, tensorflow, tensorboard",
            "",
            "\u001b[0;31m---------------------------------------------------------------------------\u001b[0;32m\nNOTE: If your import is failing due to a missing package, you can\nmanually install dependencies using either !pip or !apt.\n\nTo view examples of installing some common dependencies, click the\n\"Open Examples\" button below.\n\u001b[0;31m---------------------------------------------------------------------------\u001b[0m\n"
          ]
        }
      ]
    },
    {
      "cell_type": "code",
      "metadata": {
        "id": "9-BPnGZ4qMlh",
        "colab_type": "code",
        "colab": {}
      },
      "source": [
        ""
      ],
      "execution_count": 0,
      "outputs": []
    }
  ]
}